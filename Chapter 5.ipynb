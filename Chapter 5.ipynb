{
 "cells": [
  {
   "cell_type": "markdown",
   "metadata": {},
   "source": [
    "# Compressing Data via Dimensionality Reduction"
   ]
  },
  {
   "cell_type": "markdown",
   "metadata": {},
   "source": [
    "In this notebook, we will cover the following topics:-\n",
    "\n",
    "- **Principal Component Analysis (PCA)** for unsupervised data compression\n",
    "- **Linear Discriminant Analysis (LDA)** for supervised dimensionality reduction technique for maximizing class separability\n",
    "- Nonlinear dimensionality reduction vis **Kernel Principal Component Analysis (KPCA)**"
   ]
  },
  {
   "cell_type": "markdown",
   "metadata": {},
   "source": [
    "# PCA"
   ]
  },
  {
   "cell_type": "markdown",
   "metadata": {},
   "source": [
    "PCA is an unsupervised *linear transformation* technique that is widely used across different fields, most prominently for feature extraction and dimensionality reduction. Other popular areas of PCA are EDA (we will only talk about area of PCA in ml, but it is also used in de-noising of signals, genome data analysis, etc)\n",
    "\n",
    "PCA helps us to identify patterns in data based on the *correlation* between features.\n",
    "\n",
    "PCA aims to find the directions of maximum variance in high dimensional data and projects it onto a new subspace with equal or fewer dimensions than the original one.\n",
    "\n",
    "*Steps to perform PCA*\n",
    "\n",
    "1. Standarize the data.\n",
    "2. Constructing the covariance matrix.\n",
    "3. Obtaining the eigenvalues and eigenvectors of the covariance matrix.\n",
    "4. Sorting the eigenvalues by decreasing order to rank the eigen vectors."
   ]
  },
  {
   "cell_type": "markdown",
   "metadata": {},
   "source": [
    "**Covariance Matrix**\n",
    "\n"
   ]
  },
  {
   "cell_type": "code",
   "execution_count": 1,
   "metadata": {},
   "outputs": [],
   "source": [
    "import pandas as pd\n",
    "import numpy as np\n",
    "import matplotlib.pyplot as plt"
   ]
  },
  {
   "cell_type": "code",
   "execution_count": 2,
   "metadata": {},
   "outputs": [],
   "source": [
    "df = pd.read_csv('wine.data', header = None)"
   ]
  },
  {
   "cell_type": "code",
   "execution_count": 3,
   "metadata": {},
   "outputs": [],
   "source": [
    "#splitting the dataset, in ratio of 70:30 and also making sure that proportions of classes are equal in train and test set\n",
    "from sklearn.model_selection import train_test_split"
   ]
  },
  {
   "cell_type": "code",
   "execution_count": null,
   "metadata": {},
   "outputs": [],
   "source": []
  }
 ],
 "metadata": {
  "kernelspec": {
   "display_name": "Python 3",
   "language": "python",
   "name": "python3"
  },
  "language_info": {
   "codemirror_mode": {
    "name": "ipython",
    "version": 3
   },
   "file_extension": ".py",
   "mimetype": "text/x-python",
   "name": "python",
   "nbconvert_exporter": "python",
   "pygments_lexer": "ipython3",
   "version": "3.6.8"
  }
 },
 "nbformat": 4,
 "nbformat_minor": 2
}
