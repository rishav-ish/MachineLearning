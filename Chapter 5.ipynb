{
 "cells": [
  {
   "cell_type": "markdown",
   "metadata": {},
   "source": [
    "# Compressing Data via Dimensionality Reduction"
   ]
  },
  {
   "cell_type": "markdown",
   "metadata": {},
   "source": [
    "In this notebook, we will cover the following topics:-\n",
    "\n",
    "- **Principal Component Analysis (PCA)** for unsupervised data compression\n",
    "- **Linear Discriminant Analysis (LDA)** for supervised dimensionality reduction technique for maximizing class separability\n",
    "- Nonlinear dimensionality reduction vis **Kernel Principal Component Analysis (KPCA)**"
   ]
  },
  {
   "cell_type": "markdown",
   "metadata": {},
   "source": [
    "# PCA"
   ]
  },
  {
   "cell_type": "markdown",
   "metadata": {},
   "source": [
    "PCA is an unsupervised *linear transformation* technique that is widely used across different fields, most prominently for feature extraction and dimensionality reduction. Other popular areas of PCA are EDA (we will only talk about area of PCA in ml, but it is also used in de-noising of signals, genome data analysis, etc)\n",
    "\n",
    "PCA helps us to identify patterns in data based on the *correlation* between features.\n",
    "\n",
    "PCA aims to find the directions of maximum variance in high dimensional data and projects it onto a new subspace with equal or fewer dimensions than the original one.\n",
    "\n",
    "*Steps to perform PCA*\n",
    "\n",
    "1. Standarize the data.\n",
    "2. Constructing the covariance matrix.\n",
    "3. Obtaining the eigenvalues and eigenvectors of the covariance matrix.\n",
    "4. Sorting the eigenvalues by decreasing order to rank the eigen vectors."
   ]
  },
  {
   "cell_type": "markdown",
   "metadata": {},
   "source": [
    "**Covariance Matrix**\n",
    "\n",
    "covariance represent how much the two variable are related with each other, the relationship can be positive, negarive or none.\n",
    "\n",
    "$ \\sigma _{jk} = \\frac {1} {n} \\sum ^n _{(i=1)} ( x ^{(i)} _j - \\nu _j)( x ^{(i)} _j - \\nu _k) $\n",
    "\n",
    "Here, $ \\nu _j and \\nu _k $ are the sample mean of feature j and k."
   ]
  },
  {
   "cell_type": "code",
   "execution_count": 1,
   "metadata": {},
   "outputs": [],
   "source": [
    "import pandas as pd\n",
    "import numpy as np\n",
    "import matplotlib.pyplot as plt"
   ]
  },
  {
   "cell_type": "code",
   "execution_count": 2,
   "metadata": {},
   "outputs": [],
   "source": [
    "df = pd.read_csv('wine.data', header = None)"
   ]
  },
  {
   "cell_type": "code",
   "execution_count": 3,
   "metadata": {},
   "outputs": [],
   "source": [
    "X, y = df.iloc[:,1:].values, df.iloc[:,0].values"
   ]
  },
  {
   "cell_type": "code",
   "execution_count": 4,
   "metadata": {},
   "outputs": [],
   "source": [
    "#splitting the dataset, in ratio of 70:30 and also making sure that proportions of classes are equal in train and test set\n",
    "from sklearn.model_selection import train_test_split"
   ]
  },
  {
   "cell_type": "code",
   "execution_count": 5,
   "metadata": {},
   "outputs": [],
   "source": [
    "X_train, X_test, y_train, y_test = train_test_split(X, y, test_size = 0.3, stratify = y, random_state = 0)"
   ]
  },
  {
   "cell_type": "code",
   "execution_count": 6,
   "metadata": {},
   "outputs": [],
   "source": [
    "#standarization the data, it's important in PCA\n",
    "#first step\n",
    "\n",
    "from sklearn.preprocessing import StandardScaler\n",
    "\n",
    "ss = StandardScaler()\n",
    "\n",
    "X_train_std = ss.fit_transform(X_train)\n",
    "X_test_std = ss.transform(X_test)"
   ]
  },
  {
   "cell_type": "markdown",
   "metadata": {},
   "source": [
    "The eigenvectors of the covariance matrix represent the prinicipal component (the direction of the maximum variance), whereas the corresponding eigenvalues will define their magnitude."
   ]
  },
  {
   "cell_type": "code",
   "execution_count": 7,
   "metadata": {},
   "outputs": [],
   "source": [
    "#second step\n",
    "#making the covariance matrix\n",
    "cov_mat = np.cov(X_train_std.T) #we are doing transpose to make our dataset dimensions X samples. (output -> d X d)\n"
   ]
  },
  {
   "cell_type": "code",
   "execution_count": 8,
   "metadata": {},
   "outputs": [
    {
     "name": "stdout",
     "output_type": "stream",
     "text": [
      "13 eigen vals are [4.84274532 2.41602459 1.54845825 0.96120438 0.84166161 0.6620634\n",
      " 0.51828472 0.34650377 0.3131368  0.10754642 0.21357215 0.15362835\n",
      " 0.1808613 ]\n",
      "13 eigen vectors are  [[-1.37242175e-01  5.03034778e-01 -1.37748734e-01 -3.29610003e-03\n",
      "   2.90625226e-01 -2.99096847e-01 -7.90529293e-02  3.68176414e-01\n",
      "   3.98377017e-01 -9.44869777e-02  3.74638877e-01 -1.27834515e-01\n",
      "   2.62834263e-01]\n",
      " [ 2.47243265e-01  1.64871190e-01  9.61503863e-02  5.62646692e-01\n",
      "  -8.95378697e-02 -6.27036396e-01  2.74002014e-01  1.25775752e-02\n",
      "  -1.10458230e-01  2.63652406e-02 -1.37405597e-01  8.06401578e-02\n",
      "  -2.66769211e-01]\n",
      " [-2.54515927e-02  2.44564761e-01  6.77775667e-01 -1.08977111e-01\n",
      "   1.60834991e-01 -3.89128239e-04 -1.32328045e-01 -1.77578177e-01\n",
      "  -3.82496856e-01  1.42747511e-01  4.61583035e-01  1.67924873e-02\n",
      "  -1.15542548e-01]\n",
      " [ 2.06945084e-01 -1.13529045e-01  6.25040550e-01  3.38187002e-02\n",
      "  -5.15873402e-02  4.05836452e-02 -2.23999097e-01  4.40592110e-01\n",
      "   2.43373853e-01 -1.30485780e-01 -4.18953989e-01 -1.10845657e-01\n",
      "   1.99483410e-01]\n",
      " [-1.54365821e-01  2.89745182e-01  1.96135481e-01 -3.67511070e-01\n",
      "  -6.76487073e-01 -6.57772614e-02  4.05268966e-01 -1.16617503e-01\n",
      "   2.58982359e-01 -6.76080782e-02  1.00470630e-02  7.93879562e-02\n",
      "   2.89018810e-02]\n",
      " [-3.93769523e-01  5.08010391e-02  1.40310572e-01  2.40245127e-01\n",
      "   1.18511144e-01  5.89776247e-02  3.47419412e-02 -3.50192127e-01\n",
      "   3.42312860e-01  4.59917661e-01 -2.21254241e-01 -4.91459313e-01\n",
      "  -6.63868598e-02]\n",
      " [-4.17351064e-01 -2.28733792e-02  1.17053859e-01  1.87053299e-01\n",
      "   1.07100349e-01  3.01103180e-02 -4.17835724e-02 -2.18718183e-01\n",
      "   3.61231642e-02 -8.14583947e-01 -4.17513600e-02 -5.03074004e-02\n",
      "  -2.13349079e-01]\n",
      " [ 3.05728961e-01  9.04888470e-02  1.31217777e-01 -2.29262234e-02\n",
      "   5.07581610e-01  2.71728086e-01  6.31145686e-01 -1.97129425e-01\n",
      "   1.71436883e-01 -9.57480885e-02 -8.87569452e-02  1.75328030e-01\n",
      "   1.86391279e-01]\n",
      " [-3.06683469e-01  8.35232677e-03  3.04309008e-02  4.96262330e-01\n",
      "  -2.01634619e-01  4.39997519e-01  3.23122775e-01  4.33055871e-01\n",
      "  -2.44370210e-01  6.72468934e-02  1.99921861e-01 -3.67595797e-03\n",
      "   1.68082985e-01]\n",
      " [ 7.55406578e-02  5.49775805e-01 -7.99299713e-02  1.06482939e-01\n",
      "  -5.73607091e-03  4.11743459e-01 -2.69082623e-01  6.68411823e-02\n",
      "   1.55514919e-01  8.73336218e-02 -2.21668868e-01  3.59756535e-01\n",
      "  -4.66369031e-01]\n",
      " [-3.26132628e-01 -2.07164328e-01  5.30591506e-02 -3.69053747e-01\n",
      "   2.76914216e-01 -1.41673377e-01  3.02640661e-01  4.59762295e-01\n",
      "  -2.11961247e-02  1.29061125e-01 -9.84694573e-02  4.04669797e-02\n",
      "  -5.32483880e-01]\n",
      " [-3.68610222e-01 -2.49025357e-01  1.32391030e-01  1.42016088e-01\n",
      "   6.66275572e-02 -1.75842384e-01 -1.30540143e-01 -1.10827548e-01\n",
      "   2.38089559e-01  1.87646268e-01  1.91205783e-02  7.42229543e-01\n",
      "   2.37835283e-01]\n",
      " [-2.96696514e-01  3.80229423e-01 -7.06502178e-02 -1.67682173e-01\n",
      "   1.28029045e-01 -1.38018388e-01 -8.11335043e-04 -5.60817288e-03\n",
      "  -5.17278463e-01  1.21112574e-02 -5.42532072e-01  3.87395209e-02\n",
      "   3.67763359e-01]]\n"
     ]
    }
   ],
   "source": [
    "#third step\n",
    "#here we will calculate eigen value and eigen vectors\n",
    "#covmat - lambda * Identity_matrix = 0\n",
    "\n",
    "eigen_vals, eigen_vecs = np.linalg.eig(cov_mat) #we will have here 13 eigen_values \n",
    "\n",
    "print('13 eigen vals are', eigen_vals)\n",
    "print('13 eigen vectors are ', eigen_vecs)"
   ]
  },
  {
   "cell_type": "markdown",
   "metadata": {},
   "source": [
    "Since, we want want to reduce the dimensionality of our dataset by compressing it onto a new feature subspace, we only select the subset of the eigenvectors(prinicipal components) that contains most of the information(variance). <br>\n",
    "The eigenvalues defines the magnitude of the eigenvectors, so we have to sort the eigenvalues by decreasing magnitude, and we will choose k eigenvectors from them"
   ]
  },
  {
   "cell_type": "markdown",
   "metadata": {},
   "source": [
    "## Total and explained variance"
   ]
  },
  {
   "cell_type": "markdown",
   "metadata": {},
   "source": [
    "Here we will be plotting *variance explained ratios* of the given eigenvalues. \n",
    "\n",
    "**Total variance** is the sum of variances of all individual principal components(eigen vectors magnitue .ie. eigen value).\n",
    "\n",
    "The fraction of **variance explained** by a principal component is the ratio between the variance of that principal component and the total variance.\n",
    "\n",
    "i.e \n",
    "\n",
    "$ \\lambda _j = \\frac {\\lambda _j} { \\sum ^d _{(j=1)} \\lambda _j} $"
   ]
  },
  {
   "cell_type": "code",
   "execution_count": 9,
   "metadata": {},
   "outputs": [],
   "source": [
    "tot = np.sum(eigen_vals)\n",
    "var_exp = [(i/tot) for i in sorted(eigen_vals, reverse=True)]\n",
    "\n",
    "cum_var_exp = np.cumsum(var_exp) #flattened array\n"
   ]
  },
  {
   "cell_type": "code",
   "execution_count": 10,
   "metadata": {},
   "outputs": [
    {
     "data": {
      "image/png": "[encoded data removed]",
      "text/plain": [
       "<Figure size 432x288 with 1 Axes>"
      ]
     },
     "metadata": {
      "needs_background": "light"
     },
     "output_type": "display_data"
    }
   ],
   "source": [
    "plt.bar(range(1,14), var_exp, alpha = 0.5, align = 'center', label = 'individual explained variance')\n",
    "plt.step(range(1,14), cum_var_exp, where = 'mid', label  = 'cumulative explained variance')\n",
    "plt.ylabel('Explained variance ration')\n",
    "plt.xlabel('Prinicipal component index')\n",
    "plt.legend(loc = 'best')\n",
    "plt.show()"
   ]
  },
  {
   "cell_type": "markdown",
   "metadata": {},
   "source": [
    "The resulting plot indicates that the first principal component alone accounts for approx 40 percent of the variance. and first two principal component account for 60 percent of total variance."
   ]
  },
  {
   "cell_type": "markdown",
   "metadata": {},
   "source": [
    "## Feature Transformation"
   ]
  },
  {
   "cell_type": "markdown",
   "metadata": {},
   "source": [
    "After successfully finding eigen values and eigen vectors, we will be performing following steps:-\n",
    "\n",
    "- Select *k* eigenvectors, which corresponds to the *k* largest eigenvalues. (k<=d).\n",
    "- Construct a project matrix **W** from the top *k* eigenvectors.\n",
    "- Transform the d-dimensional input dataset **X** using the projection matrix **W** to obtain the new k-dimensional feature subspace."
   ]
  },
  {
   "cell_type": "code",
   "execution_count": 11,
   "metadata": {},
   "outputs": [],
   "source": [
    "#make a pair for eigenvalue and eigenvector and they will sort it\n",
    "\n",
    "eigen_pairs = [(np.abs(eigen_vals[i]), eigen_vecs[:,i])  for i in range(len(eigen_vals))]\n",
    "\n",
    "#sorting\n",
    "eigen_pairs.sort(key = lambda k:k[0], reverse = True) #we are sorting according to key value."
   ]
  },
  {
   "cell_type": "code",
   "execution_count": 12,
   "metadata": {},
   "outputs": [
    {
     "data": {
      "text/plain": [
       "array([-0.13724218,  0.24724326, -0.02545159,  0.20694508, -0.15436582,\n",
       "       -0.39376952, -0.41735106,  0.30572896, -0.30668347,  0.07554066,\n",
       "       -0.32613263, -0.36861022, -0.29669651])"
      ]
     },
     "execution_count": 12,
     "metadata": {},
     "output_type": "execute_result"
    }
   ],
   "source": [
    "eigen_pairs[0][1]"
   ]
  },
  {
   "cell_type": "code",
   "execution_count": 13,
   "metadata": {},
   "outputs": [
    {
     "name": "stdout",
     "output_type": "stream",
     "text": [
      "Matrix W\n",
      " [[-0.13724218  0.50303478]\n",
      " [ 0.24724326  0.16487119]\n",
      " [-0.02545159  0.24456476]\n",
      " [ 0.20694508 -0.11352904]\n",
      " [-0.15436582  0.28974518]\n",
      " [-0.39376952  0.05080104]\n",
      " [-0.41735106 -0.02287338]\n",
      " [ 0.30572896  0.09048885]\n",
      " [-0.30668347  0.00835233]\n",
      " [ 0.07554066  0.54977581]\n",
      " [-0.32613263 -0.20716433]\n",
      " [-0.36861022 -0.24902536]\n",
      " [-0.29669651  0.38022942]]\n"
     ]
    }
   ],
   "source": [
    "#we will be using first 2 prinicipal component that accounts for 60 percent variance\n",
    "\n",
    "w = np.hstack((eigen_pairs[0][1][:,np.newaxis], eigen_pairs[1][1][:,np.newaxis]))\n",
    "\n",
    "print('Matrix W\\n', w) #13 X 2 matrix will be generated "
   ]
  },
  {
   "cell_type": "code",
   "execution_count": 14,
   "metadata": {},
   "outputs": [],
   "source": [
    "#here we will be generate our new feature X_new = X_std * W\n",
    "\n",
    "X_train_pca = X_train_std.dot(w)"
   ]
  },
  {
   "cell_type": "code",
   "execution_count": 15,
   "metadata": {},
   "outputs": [
    {
     "data": {
      "image/png": "[encoded data removed]",
      "text/plain": [
       "<Figure size 432x288 with 1 Axes>"
      ]
     },
     "metadata": {
      "needs_background": "light"
     },
     "output_type": "display_data"
    }
   ],
   "source": [
    "colors = ['r','b','g']\n",
    "markers = ['*','v','o']\n",
    "\n",
    "for l, c, m, in zip(np.unique(y_train), colors, markers):\n",
    "    plt.scatter(X_train_pca[y_train==l,0], X_train_pca[y_train==l,1], c = c, marker = m, label = l)\n",
    "    \n",
    "plt.xlabel('PC 1')\n",
    "plt.ylabel('PC 2')\n",
    "plt.legend(loc = 'lower left')\n",
    "plt.show()"
   ]
  },
  {
   "cell_type": "markdown",
   "metadata": {},
   "source": [
    "we can observe in the figure that x axis is more spread because x axis is prinicpal component 1 with maximum variance. Remember PCA is a unsupervised technique hence it doesn't use any class label information"
   ]
  },
  {
   "cell_type": "markdown",
   "metadata": {},
   "source": [
    "## PCA implementation using Sklearn library"
   ]
  },
  {
   "cell_type": "code",
   "execution_count": 16,
   "metadata": {},
   "outputs": [],
   "source": [
    "from matplotlib.colors import ListedColormap"
   ]
  },
  {
   "cell_type": "code",
   "execution_count": 17,
   "metadata": {},
   "outputs": [],
   "source": [
    "def plot_decision_regions(X, y, classifier, resolution = 0.02):\n",
    "    \n",
    "    color = ['red','green','blue','cyan','gray','lightgreen']\n",
    "    marker = ['v','^','o','x','s','*']\n",
    "    \n",
    "    cmap = ListedColormap(color[:len(np.unique(y))])\n",
    "    \n",
    "    x1_min, x1_max = X[:,0].min() - 1, X[:, 1].max() + 1\n",
    "    x2_min, x2_max = X[:,1].min() - 1, X[:,0].max() + 1\n",
    "    \n",
    "    xx1, xx2 = np.meshgrid(\n",
    "                np.arange(x1_min, x1_max, resolution),\n",
    "                np.arange(x2_min, x2_max, resolution)\n",
    "    )\n",
    "    \n",
    "    Z = classifier.predict(np.array([xx1.ravel(),xx2.ravel()]).T)\n",
    "    Z = Z.reshape(xx1.shape)\n",
    "    plt.contourf(xx1, xx2, Z, cmap=cmap, alpha = 0.4)\n",
    "    plt.xlim(xx1.min(), xx1.max())\n",
    "    plt.ylim(xx2.min(), xx2.max())\n",
    "    \n",
    "    for idx, cl in enumerate(np.unique(y)):\n",
    "        plt.scatter(X[y==cl, 0], X[y==cl,1], color = color[idx], marker = marker[idx], edgecolors='black', alpha = 0.6, label = cl)\n",
    "        \n",
    "    "
   ]
  },
  {
   "cell_type": "code",
   "execution_count": 18,
   "metadata": {},
   "outputs": [],
   "source": [
    "from sklearn.linear_model import LogisticRegression\n",
    "from sklearn.decomposition import PCA"
   ]
  },
  {
   "cell_type": "code",
   "execution_count": 19,
   "metadata": {},
   "outputs": [],
   "source": [
    "pca = PCA(n_components=2) #we will be choosing first two principal components"
   ]
  },
  {
   "cell_type": "code",
   "execution_count": 20,
   "metadata": {},
   "outputs": [
    {
     "data": {
      "text/plain": [
       "PCA(copy=True, iterated_power='auto', n_components=2, random_state=None,\n",
       "    svd_solver='auto', tol=0.0, whiten=False)"
      ]
     },
     "execution_count": 20,
     "metadata": {},
     "output_type": "execute_result"
    }
   ],
   "source": [
    "pca.fit(X_train_std) #giving the standarize data"
   ]
  },
  {
   "cell_type": "code",
   "execution_count": 21,
   "metadata": {},
   "outputs": [],
   "source": [
    "X_train_pca = pca.transform(X_train_std)\n",
    "X_test_pca = pca.transform(X_test_std)"
   ]
  },
  {
   "cell_type": "code",
   "execution_count": 22,
   "metadata": {},
   "outputs": [],
   "source": [
    "model = LogisticRegression()"
   ]
  },
  {
   "cell_type": "code",
   "execution_count": 23,
   "metadata": {},
   "outputs": [
    {
     "name": "stderr",
     "output_type": "stream",
     "text": [
      "c:\\users\\dell\\appdata\\local\\programs\\python\\python36\\lib\\site-packages\\scikit_learn-0.21.2-py3.6-win-amd64.egg\\sklearn\\linear_model\\logistic.py:432: FutureWarning: Default solver will be changed to 'lbfgs' in 0.22. Specify a solver to silence this warning.\n",
      "  FutureWarning)\n",
      "c:\\users\\dell\\appdata\\local\\programs\\python\\python36\\lib\\site-packages\\scikit_learn-0.21.2-py3.6-win-amd64.egg\\sklearn\\linear_model\\logistic.py:469: FutureWarning: Default multi_class will be changed to 'auto' in 0.22. Specify the multi_class option to silence this warning.\n",
      "  \"this warning.\", FutureWarning)\n"
     ]
    },
    {
     "data": {
      "text/plain": [
       "LogisticRegression(C=1.0, class_weight=None, dual=False, fit_intercept=True,\n",
       "                   intercept_scaling=1, l1_ratio=None, max_iter=100,\n",
       "                   multi_class='warn', n_jobs=None, penalty='l2',\n",
       "                   random_state=None, solver='warn', tol=0.0001, verbose=0,\n",
       "                   warm_start=False)"
      ]
     },
     "execution_count": 23,
     "metadata": {},
     "output_type": "execute_result"
    }
   ],
   "source": [
    "model.fit(X_train_pca,y_train)"
   ]
  },
  {
   "cell_type": "code",
   "execution_count": 24,
   "metadata": {},
   "outputs": [
    {
     "data": {
      "image/png": "[encoded data removed]",
      "text/plain": [
       "<Figure size 432x288 with 1 Axes>"
      ]
     },
     "metadata": {
      "needs_background": "light"
     },
     "output_type": "display_data"
    }
   ],
   "source": [
    "plot_decision_regions(X_train_pca, y_train, model)\n",
    "plt.xlabel('PC 1')\n",
    "plt.ylabel('PC 2')\n",
    "plt.legend(loc = 'best')\n",
    "plt.show()"
   ]
  },
  {
   "cell_type": "code",
   "execution_count": 25,
   "metadata": {},
   "outputs": [
    {
     "data": {
      "image/png": "[encoded data removed]",
      "text/plain": [
       "<Figure size 432x288 with 1 Axes>"
      ]
     },
     "metadata": {
      "needs_background": "light"
     },
     "output_type": "display_data"
    }
   ],
   "source": [
    "#let's plot our decison plot on test data set\n",
    "plot_decision_regions(X_test_pca, y_test, model)\n",
    "plt.xlabel('PC 1')\n",
    "plt.ylabel('PC 2')\n",
    "plt.legend(loc = 'best')\n",
    "plt.show()"
   ]
  },
  {
   "cell_type": "code",
   "execution_count": 26,
   "metadata": {},
   "outputs": [
    {
     "data": {
      "text/plain": [
       "PCA(copy=True, iterated_power='auto', n_components=None, random_state=None,\n",
       "    svd_solver='auto', tol=0.0, whiten=False)"
      ]
     },
     "execution_count": 26,
     "metadata": {},
     "output_type": "execute_result"
    }
   ],
   "source": [
    "#practicing something\n",
    "pca = PCA(n_components=None) #when none it will be of d dimensions, d is the feature set in training data\n",
    "pca.fit(X_train_std)"
   ]
  },
  {
   "cell_type": "code",
   "execution_count": 27,
   "metadata": {},
   "outputs": [],
   "source": [
    "X_train_pca_new = pca.transform(X_train_std)\n",
    "X_test_pca_new = pca.transform(X_test_std)"
   ]
  },
  {
   "cell_type": "code",
   "execution_count": 28,
   "metadata": {},
   "outputs": [],
   "source": [
    "eigenvalue = pca.explained_variance_"
   ]
  },
  {
   "cell_type": "code",
   "execution_count": 29,
   "metadata": {},
   "outputs": [],
   "source": [
    "total = np.sum(eigenvalue)"
   ]
  },
  {
   "cell_type": "code",
   "execution_count": 30,
   "metadata": {},
   "outputs": [],
   "source": [
    "exp_var = [(i/total) for i in eigenvalue]"
   ]
  },
  {
   "cell_type": "code",
   "execution_count": 31,
   "metadata": {},
   "outputs": [],
   "source": [
    "cum_exp_var = np.cumsum(exp_var)"
   ]
  },
  {
   "cell_type": "code",
   "execution_count": 32,
   "metadata": {},
   "outputs": [
    {
     "data": {
      "image/png": "[encoded data removed]",
      "text/plain": [
       "<Figure size 432x288 with 1 Axes>"
      ]
     },
     "metadata": {
      "needs_background": "light"
     },
     "output_type": "display_data"
    }
   ],
   "source": [
    "plt.bar(range(1,14), exp_var, label = 'Individual Explained Variance')\n",
    "plt.step(range(1,14), cum_exp_var, where = 'mid', label = 'Cumulative Explained Variance')\n",
    "plt.xlabel('Index')\n",
    "plt.ylabel('Explained Variance Ration')\n",
    "plt.legend(loc = 'best')\n",
    "plt.show()"
   ]
  },
  {
   "cell_type": "markdown",
   "metadata": {},
   "source": [
    "# LDA"
   ]
  },
  {
   "cell_type": "markdown",
   "metadata": {},
   "source": [
    "LDA is similar to PCA but the difference is that the projection axis is choosen such that the margin between classes increases, also it is supervised technique other is unsupervised.\n",
    "\n",
    "So you can see the motivation is diffent in PCA and LDA, PCA choose othogonal axes such that the variance is maxium, whereas LCA choose axes such that the margin between classes become maximum.\n",
    "\n",
    "Remember Both LCA and PCA is a linear transformation technique that can be used to reduce the number of dimensions in dataset, but how they choose to do is different.\n",
    "\n",
    "**One assumption in LDA is that the data is normally distributed**. Also we assume that the classes have identical covariance matrices and that the feature are statistically independant of each other. However, even if one or more of those assumptions are violated, LDA for dimensionality reduction can still work reasonably well.\n"
   ]
  },
  {
   "cell_type": "markdown",
   "metadata": {},
   "source": [
    "In LDA we maximizes the distance between mean among the categories and decreases the variance among categories (Look at video on youtube *statquest* channel on LDA).\n",
    "\n",
    "The ratio of $ \\frac {(\\nu _1 - \\nu _2) ^ 2} {s _1 ^2 + s _2 ^2} $ should be maximum, and the projection axis that get this result is choosen as our Linear Discriminant.<br>\n",
    "Here, $\\nu $ is mean and s is scatter (variance)."
   ]
  },
  {
   "cell_type": "markdown",
   "metadata": {},
   "source": [
    "## Steps to perform LDA"
   ]
  },
  {
   "cell_type": "markdown",
   "metadata": {},
   "source": [
    "1. Standarize the d-dimensional dataset (d is the number of features)\n",
    "2. <u>For each class</u>, compute the d-dimensional mean vector.\n",
    "3. Construct the <u>between class scatter matrix</u> $ S _B $ and the <u>within class scatter matrix</u> $ S _w $\n",
    "4. Compute the eigenvectors and corresponding eigenvalues of the matrix $ S _w ^{-1} S _B $\n",
    "5. Sort the eigenvalues by decreasing order to rank the corresponding eigenvectors.\n",
    "6. Choose the *k* eigenvectors that correspond to the *k* largest eigenvalues to construct a **d X k** dimensional transformation matrix **W**; the eigenvectors are the column of this matrix.\n",
    "7. Project the samples onto the new feature subspace using the transformation matrix **W**."
   ]
  },
  {
   "cell_type": "markdown",
   "metadata": {},
   "source": [
    "since we already have performed step 1 above, let's directly move to step 2.... we are going to calculate mean vector\n",
    "\n"
   ]
  },
  {
   "cell_type": "code",
   "execution_count": 37,
   "metadata": {},
   "outputs": [
    {
     "name": "stdout",
     "output_type": "stream",
     "text": [
      "MV 1: [ 0.9066 -0.3497  0.3201 -0.7189  0.5056  0.8807  0.9589 -0.5516  0.5416\n",
      "  0.2338  0.5897  0.6563  1.2075]\n",
      "\n",
      "MV 2: [-0.8749 -0.2848 -0.3735  0.3157 -0.3848 -0.0433  0.0635 -0.0946  0.0703\n",
      " -0.8286  0.3144  0.3608 -0.7253]\n",
      "\n",
      "MV 3: [ 0.1992  0.866   0.1682  0.4148 -0.0451 -1.0286 -1.2876  0.8287 -0.7795\n",
      "  0.9649 -1.209  -1.3622 -0.4013]\n",
      "\n"
     ]
    }
   ],
   "source": [
    "np.set_printoptions(precision=4)\n",
    "mean_vecs = []\n",
    "\n",
    "for label in range(1,4): #since we have 3 classes label as  1, 2 and 3\n",
    "    mean_vecs.append(np.mean(\n",
    "        X_train_std[y_train==label],\n",
    "        axis = 0\n",
    "    ))\n",
    "    print('MV {}: {}\\n'.format(label, mean_vecs[label-1]))"
   ]
  },
  {
   "cell_type": "markdown",
   "metadata": {},
   "source": [
    "Using the mean vectors, we can now compute the <u>within-class scatter matrix</u> $ S _w $:\n",
    "\n",
    "$ S _w = \\sum _{j=1} ^c S _i $\n",
    "\n",
    "$ S _i = \\sum ^c _{x\\to $\n"
   ]
  },
  {
   "cell_type": "code",
   "execution_count": null,
   "metadata": {},
   "outputs": [],
   "source": []
  }
 ],
 "metadata": {
  "kernelspec": {
   "display_name": "Python 3",
   "language": "python",
   "name": "python3"
  },
  "language_info": {
   "codemirror_mode": {
    "name": "ipython",
    "version": 3
   },
   "file_extension": ".py",
   "mimetype": "text/x-python",
   "name": "python",
   "nbconvert_exporter": "python",
   "pygments_lexer": "ipython3",
   "version": "3.6.8"
  }
 },
 "nbformat": 4,
 "nbformat_minor": 2
}
