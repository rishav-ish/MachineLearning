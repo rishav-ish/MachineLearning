{
 "cells": [
  {
   "cell_type": "markdown",
   "metadata": {},
   "source": [
    "# Ensemble Learning"
   ]
  },
  {
   "cell_type": "markdown",
   "metadata": {},
   "source": [
    "In this chapter we will learn about followings:-\n",
    "\n",
    "- Make predictions on majority voting.\n",
    "- Use bagging to reduce overfitting by drawing random combinations of the training set with repetition\n",
    "- Apply boosting to build powerful models from *weak learners* that learn from their mistakes"
   ]
  },
  {
   "cell_type": "markdown",
   "metadata": {},
   "source": [
    "## Learning with ensembles"
   ]
  },
  {
   "cell_type": "markdown",
   "metadata": {},
   "source": [
    "The goal of **ensemble methods** is to combine different classifiers into a meta-classifier that has better generalization performance than each individual classifier alone.\n",
    "\n",
    "**Majority Voting** - It simply means that we select the class label that has been predicted by the majority of classifiers, i.e, received more than 50% of the votes. Also the term *majority voting* referes to binary classes only. However it is easy to generalize the majority voting priniciple to multi-class setting, which is called **plurality voting**. (here we select the class label that received the most vote(mode))."
   ]
  },
  {
   "cell_type": "markdown",
   "metadata": {},
   "source": [
    "*Ensemble can be done by combining different classifier models or by using same collection of models and training them with different subsets of training set.*"
   ]
  },
  {
   "cell_type": "markdown",
   "metadata": {},
   "source": [
    "## Combining classifiers via majority vote (also plurality voting)"
   ]
  },
  {
   "cell_type": "code",
   "execution_count": 1,
   "metadata": {},
   "outputs": [],
   "source": [
    "import numpy as np\n",
    "import matplotlib.pyplot as plt"
   ]
  },
  {
   "cell_type": "code",
   "execution_count": 2,
   "metadata": {},
   "outputs": [],
   "source": [
    "from sklearn import datasets\n",
    "from sklearn.model_selection import train_test_split\n",
    "from sklearn.preprocessing import StandardScaler, LabelEncoder\n"
   ]
  },
  {
   "cell_type": "code",
   "execution_count": 3,
   "metadata": {},
   "outputs": [],
   "source": [
    "iris = datasets.load_iris()"
   ]
  },
  {
   "cell_type": "code",
   "execution_count": 4,
   "metadata": {},
   "outputs": [],
   "source": [
    "X, y = iris.data[50:, [1,2]], iris.target[50:]"
   ]
  },
  {
   "cell_type": "code",
   "execution_count": 5,
   "metadata": {},
   "outputs": [],
   "source": [
    "le = LabelEncoder()\n",
    "y = le.fit_transform(y)"
   ]
  },
  {
   "cell_type": "code",
   "execution_count": 6,
   "metadata": {},
   "outputs": [
    {
     "data": {
      "text/plain": [
       "array([0, 1], dtype=int64)"
      ]
     },
     "execution_count": 6,
     "metadata": {},
     "output_type": "execute_result"
    }
   ],
   "source": [
    "np.unique(y)"
   ]
  },
  {
   "cell_type": "code",
   "execution_count": 7,
   "metadata": {},
   "outputs": [],
   "source": [
    "X_train, X_test, y_train, y_test = train_test_split(X, y, test_size = 0.5, random_state = 1, stratify = y)"
   ]
  },
  {
   "cell_type": "code",
   "execution_count": 8,
   "metadata": {},
   "outputs": [],
   "source": [
    "#lets train three classifier, logistic regression, decision tree, k-nearest neighbors\n",
    "from sklearn.model_selection import cross_val_score\n",
    "from sklearn.linear_model import LogisticRegression\n",
    "from sklearn.tree import DecisionTreeClassifier\n",
    "from sklearn.neighbors import KNeighborsClassifier\n",
    "from sklearn.pipeline import make_pipeline"
   ]
  },
  {
   "cell_type": "code",
   "execution_count": 9,
   "metadata": {},
   "outputs": [],
   "source": [
    "clf1 = LogisticRegression(\n",
    "        penalty='l2',\n",
    "        C = 0.001,\n",
    "        random_state = 1\n",
    ")\n",
    "\n",
    "clf2 = DecisionTreeClassifier(\n",
    "            max_depth=1,\n",
    "            criterion='entropy',\n",
    "            random_state=0\n",
    ")\n",
    "\n",
    "clf3 = KNeighborsClassifier(\n",
    "        n_neighbors=1,\n",
    "        p = 2,\n",
    "        metric='minkowski'\n",
    ")"
   ]
  },
  {
   "cell_type": "code",
   "execution_count": 10,
   "metadata": {},
   "outputs": [],
   "source": [
    "pipe1 = make_pipeline(StandardScaler(), clf1)"
   ]
  },
  {
   "cell_type": "code",
   "execution_count": 11,
   "metadata": {},
   "outputs": [],
   "source": [
    "pipe2 = make_pipeline(StandardScaler(), clf3)"
   ]
  },
  {
   "cell_type": "code",
   "execution_count": 12,
   "metadata": {},
   "outputs": [
    {
     "name": "stdout",
     "output_type": "stream",
     "text": [
      "ROC AUC: 0.87 (+/- 0.17) Logistic Regression\n",
      "ROC AUC: 0.89 (+/- 0.16) Decision Tree\n",
      "ROC AUC: 0.88 (+/- 0.15) KNN\n"
     ]
    }
   ],
   "source": [
    "import warnings\n",
    "warnings.filterwarnings('ignore')\n",
    "\n",
    "clf_labels = ['Logistic Regression', 'Decision Tree', 'KNN']\n",
    "\n",
    "\n",
    "for  label, clf in zip(clf_labels, [pipe1, clf2, pipe2]):\n",
    "    scores = cross_val_score(estimator=clf, X=X_train, y=y_train, cv=10, scoring='roc_auc')\n",
    "    \n",
    "    print(\"ROC AUC: {:.2f} (+/- {:.2f}) {}\".format(np.mean(scores), np.std(scores), label))\n",
    "    "
   ]
  },
  {
   "cell_type": "code",
   "execution_count": 13,
   "metadata": {},
   "outputs": [],
   "source": [
    "from sklearn.ensemble import VotingClassifier"
   ]
  },
  {
   "cell_type": "code",
   "execution_count": 14,
   "metadata": {},
   "outputs": [],
   "source": [
    "en = VotingClassifier(\n",
    "    estimators=[('m1',pipe1),('m2',clf2),('m3',pipe2)],\n",
    "    voting='soft'\n",
    ")"
   ]
  },
  {
   "cell_type": "code",
   "execution_count": 15,
   "metadata": {},
   "outputs": [],
   "source": [
    "clf_labels  += ['Ensemble']"
   ]
  },
  {
   "cell_type": "code",
   "execution_count": 16,
   "metadata": {},
   "outputs": [
    {
     "name": "stdout",
     "output_type": "stream",
     "text": [
      "ROC AUC: 0.87 (+/- 0.17) Logistic Regression\n",
      "ROC AUC: 0.97 (+/- 0.10) Decision Tree\n",
      "ROC AUC: 0.88 (+/- 0.15) KNN\n",
      "ROC AUC: 0.94 (+/- 0.13) Ensemble\n"
     ]
    }
   ],
   "source": [
    "for label, clf in zip(clf_labels, [pipe1, clf1, pipe2, en]):\n",
    "    scores = cross_val_score(estimator=clf, scoring='roc_auc', cv = 10, X = X_train, y = y_train)\n",
    "    print(\"ROC AUC: {:.2f} (+/- {:.2f}) {}\".format(np.mean(scores), np.std(scores), label))"
   ]
  },
  {
   "cell_type": "markdown",
   "metadata": {},
   "source": [
    "As we can observe above our ensemble model perform better than any individual model"
   ]
  },
  {
   "cell_type": "markdown",
   "metadata": {},
   "source": [
    "## Evaluating and tuning the ensemble classifier"
   ]
  },
  {
   "cell_type": "markdown",
   "metadata": {},
   "source": [
    "Here we will check how good our model generalizes over an unseen data (test data)"
   ]
  },
  {
   "cell_type": "code",
   "execution_count": 17,
   "metadata": {},
   "outputs": [],
   "source": [
    "from sklearn.metrics import roc_curve\n",
    "from sklearn.metrics import auc"
   ]
  },
  {
   "cell_type": "code",
   "execution_count": 18,
   "metadata": {},
   "outputs": [
    {
     "data": {
      "image/png": "[encoded data removed]",
      "text/plain": [
       "<Figure size 432x288 with 1 Axes>"
      ]
     },
     "metadata": {
      "needs_background": "light"
     },
     "output_type": "display_data"
    }
   ],
   "source": [
    "all_clf = [pipe1, clf2, pipe2, en]\n",
    "\n",
    "colors = ['black', 'orange', 'blue', 'green']\n",
    "linestyles = [':', '--', '-.', '-']\n",
    "\n",
    "for clf, label, clr, ls in zip(all_clf, clf_labels, colors, linestyles):\n",
    "    #assuming the label of positive class is 1 remember that roc curve is tpr vs fpr\n",
    "    probas = clf.fit(X_train, y_train).predict_proba(X_test)[:,1]\n",
    "    fpr, tpr, threshods = roc_curve(y_true=y_test, y_score=probas)\n",
    "    \n",
    "    roc_auc = auc(x=fpr, y = tpr)\n",
    "    \n",
    "    plt.plot(fpr, tpr, color = clr, linestyle=ls, label = '{} (auc = {:.2f})'.format(label, roc_auc))\n",
    "\n",
    "plt.legend(loc = 'lower right')\n",
    "plt.plot([0,1],[0,1], linestyle = '--', color = 'gray', linewidth = 2)\n",
    "plt.xlim([-0.1, 1.1])\n",
    "plt.ylim([-0.1, 1.1])\n",
    "plt.grid(alpha = 0.5)\n",
    "plt.xlabel('False Positive Rate')\n",
    "plt.ylabel('True Positive Rate')\n",
    "plt.show()"
   ]
  },
  {
   "cell_type": "markdown",
   "metadata": {},
   "source": [
    "As we can observe in the resulting ROC, the ensemble also performs well on the test set (ROC AUC = 0.95). Also we can observe that the logistic regression classifier performs similary well on the same dataset, which is probably due to the high variance (in this case senstivity of how we split the dataset) given small size of the dataset"
   ]
  },
  {
   "cell_type": "code",
   "execution_count": 19,
   "metadata": {},
   "outputs": [],
   "source": [
    "#we will standarize our data for visualization to be on same scale even though our pipeline see it for the two models.\n",
    "sc = StandardScaler()\n",
    "X_train_std = sc.fit_transform(X_train)\n",
    "\n",
    "from itertools import product #it does cross product / cartesian product\n",
    "\n",
    "x1_min, x1_max = X_train_std[:,0].min() - 1, X_train_std[:,0].max() + 1\n",
    "x2_min, x2_max = X_train_std[:,1].min() - 1, X_train_std[:,1].max() + 1\n",
    "\n",
    "xx1, xx2  = np.meshgrid(\n",
    "            np.arange(x1_min, x1_max , 0.1),\n",
    "            np.arange(x2_min, x2_max, 0.1)\n",
    ")"
   ]
  },
  {
   "cell_type": "code",
   "execution_count": 20,
   "metadata": {},
   "outputs": [
    {
     "data": {
      "image/png": "[encoded data removed]",
      "text/plain": [
       "<Figure size 504x360 with 4 Axes>"
      ]
     },
     "metadata": {
      "needs_background": "light"
     },
     "output_type": "display_data"
    }
   ],
   "source": [
    "#let's make subplots for our 2 X 2 figure first\n",
    "\n",
    "fig, axis = plt.subplots(ncols=2, nrows=2, sharex='col', sharey='row' ,figsize = (7,5))\n",
    "\n",
    "for idx, clf, tt in zip(product([0,1],[0,1]), all_clf, clf_labels):\n",
    "    clf.fit(X_train_std, y_train) #fitting our model\n",
    "    \n",
    "    Z = clf.predict(np.array([xx1.ravel(), xx2.ravel()]).T)\n",
    "    Z = Z.reshape(xx1.shape)\n",
    "    \n",
    "    #since tt is a tupe with (x, y)\n",
    "    axis[idx[0], idx[1]].contourf(xx1, xx2, Z, alpha = 0.3)\n",
    "    axis[idx[0], idx[1]].scatter(X_train_std[y_train==0, 0], X_train_std[y_train==0, 1], c = 'blue', marker = '^', s = 50)\n",
    "    axis[idx[0], idx[1]].scatter(X_train_std[y_train==1,0], X_train_std[y_train==1, 1], c = 'green', marker = 'o', s = 50)\n",
    "    axis[idx[0], idx[1]].set_title(tt)\n",
    "\n",
    "plt.text(-3.5, -4.7, s = 'Sepal width [standarized]', ha = 'center', va = 'center', fontsize = 12)\n",
    "plt.text(-12.5, 4.5, s = 'Petal length [standarized]', ha = 'center', va = 'center', fontsize = 12, rotation = 90)\n",
    "plt.show()"
   ]
  },
  {
   "cell_type": "markdown",
   "metadata": {},
   "source": [
    "As we can observe in the above figure the decision boudary made by our ensemble classifier looks like hybrid of individual classifier."
   ]
  },
  {
   "cell_type": "code",
   "execution_count": 21,
   "metadata": {},
   "outputs": [
    {
     "data": {
      "text/plain": [
       "{'estimators': [('m1', Pipeline(memory=None,\n",
       "            steps=[('standardscaler',\n",
       "                    StandardScaler(copy=True, with_mean=True, with_std=True)),\n",
       "                   ('logisticregression',\n",
       "                    LogisticRegression(C=0.001, class_weight=None, dual=False,\n",
       "                                       fit_intercept=True, intercept_scaling=1,\n",
       "                                       l1_ratio=None, max_iter=100,\n",
       "                                       multi_class='warn', n_jobs=None,\n",
       "                                       penalty='l2', random_state=1, solver='warn',\n",
       "                                       tol=0.0001, verbose=0, warm_start=False))],\n",
       "            verbose=False)),\n",
       "  ('m2',\n",
       "   DecisionTreeClassifier(class_weight=None, criterion='entropy', max_depth=1,\n",
       "                          max_features=None, max_leaf_nodes=None,\n",
       "                          min_impurity_decrease=0.0, min_impurity_split=None,\n",
       "                          min_samples_leaf=1, min_samples_split=2,\n",
       "                          min_weight_fraction_leaf=0.0, presort=False,\n",
       "                          random_state=0, splitter='best')),\n",
       "  ('m3', Pipeline(memory=None,\n",
       "            steps=[('standardscaler',\n",
       "                    StandardScaler(copy=True, with_mean=True, with_std=True)),\n",
       "                   ('kneighborsclassifier',\n",
       "                    KNeighborsClassifier(algorithm='auto', leaf_size=30,\n",
       "                                         metric='minkowski', metric_params=None,\n",
       "                                         n_jobs=None, n_neighbors=1, p=2,\n",
       "                                         weights='uniform'))],\n",
       "            verbose=False))],\n",
       " 'flatten_transform': True,\n",
       " 'n_jobs': None,\n",
       " 'voting': 'soft',\n",
       " 'weights': None,\n",
       " 'm1': Pipeline(memory=None,\n",
       "          steps=[('standardscaler',\n",
       "                  StandardScaler(copy=True, with_mean=True, with_std=True)),\n",
       "                 ('logisticregression',\n",
       "                  LogisticRegression(C=0.001, class_weight=None, dual=False,\n",
       "                                     fit_intercept=True, intercept_scaling=1,\n",
       "                                     l1_ratio=None, max_iter=100,\n",
       "                                     multi_class='warn', n_jobs=None,\n",
       "                                     penalty='l2', random_state=1, solver='warn',\n",
       "                                     tol=0.0001, verbose=0, warm_start=False))],\n",
       "          verbose=False),\n",
       " 'm2': DecisionTreeClassifier(class_weight=None, criterion='entropy', max_depth=1,\n",
       "                        max_features=None, max_leaf_nodes=None,\n",
       "                        min_impurity_decrease=0.0, min_impurity_split=None,\n",
       "                        min_samples_leaf=1, min_samples_split=2,\n",
       "                        min_weight_fraction_leaf=0.0, presort=False,\n",
       "                        random_state=0, splitter='best'),\n",
       " 'm3': Pipeline(memory=None,\n",
       "          steps=[('standardscaler',\n",
       "                  StandardScaler(copy=True, with_mean=True, with_std=True)),\n",
       "                 ('kneighborsclassifier',\n",
       "                  KNeighborsClassifier(algorithm='auto', leaf_size=30,\n",
       "                                       metric='minkowski', metric_params=None,\n",
       "                                       n_jobs=None, n_neighbors=1, p=2,\n",
       "                                       weights='uniform'))],\n",
       "          verbose=False),\n",
       " 'm1__memory': None,\n",
       " 'm1__steps': [('standardscaler',\n",
       "   StandardScaler(copy=True, with_mean=True, with_std=True)),\n",
       "  ('logisticregression',\n",
       "   LogisticRegression(C=0.001, class_weight=None, dual=False, fit_intercept=True,\n",
       "                      intercept_scaling=1, l1_ratio=None, max_iter=100,\n",
       "                      multi_class='warn', n_jobs=None, penalty='l2',\n",
       "                      random_state=1, solver='warn', tol=0.0001, verbose=0,\n",
       "                      warm_start=False))],\n",
       " 'm1__verbose': False,\n",
       " 'm1__standardscaler': StandardScaler(copy=True, with_mean=True, with_std=True),\n",
       " 'm1__logisticregression': LogisticRegression(C=0.001, class_weight=None, dual=False, fit_intercept=True,\n",
       "                    intercept_scaling=1, l1_ratio=None, max_iter=100,\n",
       "                    multi_class='warn', n_jobs=None, penalty='l2',\n",
       "                    random_state=1, solver='warn', tol=0.0001, verbose=0,\n",
       "                    warm_start=False),\n",
       " 'm1__standardscaler__copy': True,\n",
       " 'm1__standardscaler__with_mean': True,\n",
       " 'm1__standardscaler__with_std': True,\n",
       " 'm1__logisticregression__C': 0.001,\n",
       " 'm1__logisticregression__class_weight': None,\n",
       " 'm1__logisticregression__dual': False,\n",
       " 'm1__logisticregression__fit_intercept': True,\n",
       " 'm1__logisticregression__intercept_scaling': 1,\n",
       " 'm1__logisticregression__l1_ratio': None,\n",
       " 'm1__logisticregression__max_iter': 100,\n",
       " 'm1__logisticregression__multi_class': 'warn',\n",
       " 'm1__logisticregression__n_jobs': None,\n",
       " 'm1__logisticregression__penalty': 'l2',\n",
       " 'm1__logisticregression__random_state': 1,\n",
       " 'm1__logisticregression__solver': 'warn',\n",
       " 'm1__logisticregression__tol': 0.0001,\n",
       " 'm1__logisticregression__verbose': 0,\n",
       " 'm1__logisticregression__warm_start': False,\n",
       " 'm2__class_weight': None,\n",
       " 'm2__criterion': 'entropy',\n",
       " 'm2__max_depth': 1,\n",
       " 'm2__max_features': None,\n",
       " 'm2__max_leaf_nodes': None,\n",
       " 'm2__min_impurity_decrease': 0.0,\n",
       " 'm2__min_impurity_split': None,\n",
       " 'm2__min_samples_leaf': 1,\n",
       " 'm2__min_samples_split': 2,\n",
       " 'm2__min_weight_fraction_leaf': 0.0,\n",
       " 'm2__presort': False,\n",
       " 'm2__random_state': 0,\n",
       " 'm2__splitter': 'best',\n",
       " 'm3__memory': None,\n",
       " 'm3__steps': [('standardscaler',\n",
       "   StandardScaler(copy=True, with_mean=True, with_std=True)),\n",
       "  ('kneighborsclassifier',\n",
       "   KNeighborsClassifier(algorithm='auto', leaf_size=30, metric='minkowski',\n",
       "                        metric_params=None, n_jobs=None, n_neighbors=1, p=2,\n",
       "                        weights='uniform'))],\n",
       " 'm3__verbose': False,\n",
       " 'm3__standardscaler': StandardScaler(copy=True, with_mean=True, with_std=True),\n",
       " 'm3__kneighborsclassifier': KNeighborsClassifier(algorithm='auto', leaf_size=30, metric='minkowski',\n",
       "                      metric_params=None, n_jobs=None, n_neighbors=1, p=2,\n",
       "                      weights='uniform'),\n",
       " 'm3__standardscaler__copy': True,\n",
       " 'm3__standardscaler__with_mean': True,\n",
       " 'm3__standardscaler__with_std': True,\n",
       " 'm3__kneighborsclassifier__algorithm': 'auto',\n",
       " 'm3__kneighborsclassifier__leaf_size': 30,\n",
       " 'm3__kneighborsclassifier__metric': 'minkowski',\n",
       " 'm3__kneighborsclassifier__metric_params': None,\n",
       " 'm3__kneighborsclassifier__n_jobs': None,\n",
       " 'm3__kneighborsclassifier__n_neighbors': 1,\n",
       " 'm3__kneighborsclassifier__p': 2,\n",
       " 'm3__kneighborsclassifier__weights': 'uniform'}"
      ]
     },
     "execution_count": 21,
     "metadata": {},
     "output_type": "execute_result"
    }
   ],
   "source": [
    "#let's tune this ensemble model, but for that first let's know what the variable get called\n",
    "en.get_params()"
   ]
  },
  {
   "cell_type": "code",
   "execution_count": 22,
   "metadata": {},
   "outputs": [],
   "source": [
    "from sklearn.model_selection import GridSearchCV"
   ]
  },
  {
   "cell_type": "code",
   "execution_count": 23,
   "metadata": {},
   "outputs": [],
   "source": [
    "params = {\n",
    "    'm1__logisticregression__C': [0.001, 0.1, 100.0],\n",
    "    'm2__max_depth':[1,2]\n",
    "}"
   ]
  },
  {
   "cell_type": "code",
   "execution_count": 24,
   "metadata": {},
   "outputs": [],
   "source": [
    "grid = GridSearchCV(estimator=en, cv=10, scoring='roc_auc', param_grid=params)"
   ]
  },
  {
   "cell_type": "code",
   "execution_count": 25,
   "metadata": {},
   "outputs": [
    {
     "data": {
      "text/plain": [
       "GridSearchCV(cv=10, error_score='raise-deprecating',\n",
       "             estimator=VotingClassifier(estimators=[('m1',\n",
       "                                                     Pipeline(memory=None,\n",
       "                                                              steps=[('standardscaler',\n",
       "                                                                      StandardScaler(copy=True,\n",
       "                                                                                     with_mean=True,\n",
       "                                                                                     with_std=True)),\n",
       "                                                                     ('logisticregression',\n",
       "                                                                      LogisticRegression(C=0.001,\n",
       "                                                                                         class_weight=None,\n",
       "                                                                                         dual=False,\n",
       "                                                                                         fit_intercept=True,\n",
       "                                                                                         intercept_scaling=1,\n",
       "                                                                                         l1_ratio=None,\n",
       "                                                                                         max_iter=100,\n",
       "                                                                                         multi_cl...\n",
       "                                                                                           metric='minkowski',\n",
       "                                                                                           metric_params=None,\n",
       "                                                                                           n_jobs=None,\n",
       "                                                                                           n_neighbors=1,\n",
       "                                                                                           p=2,\n",
       "                                                                                           weights='uniform'))],\n",
       "                                                              verbose=False))],\n",
       "                                        flatten_transform=True, n_jobs=None,\n",
       "                                        voting='soft', weights=None),\n",
       "             iid='warn', n_jobs=None,\n",
       "             param_grid={'m1__logisticregression__C': [0.001, 0.1, 100.0],\n",
       "                         'm2__max_depth': [1, 2]},\n",
       "             pre_dispatch='2*n_jobs', refit=True, return_train_score=False,\n",
       "             scoring='roc_auc', verbose=0)"
      ]
     },
     "execution_count": 25,
     "metadata": {},
     "output_type": "execute_result"
    }
   ],
   "source": [
    "grid.fit(X_train, y_train)"
   ]
  },
  {
   "cell_type": "code",
   "execution_count": 26,
   "metadata": {},
   "outputs": [
    {
     "data": {
      "text/plain": [
       "0.9733333333333334"
      ]
     },
     "execution_count": 26,
     "metadata": {},
     "output_type": "execute_result"
    }
   ],
   "source": [
    "grid.best_score_"
   ]
  },
  {
   "cell_type": "code",
   "execution_count": 27,
   "metadata": {},
   "outputs": [
    {
     "data": {
      "text/plain": [
       "{'m1__logisticregression__C': 100.0, 'm2__max_depth': 1}"
      ]
     },
     "execution_count": 27,
     "metadata": {},
     "output_type": "execute_result"
    }
   ],
   "source": [
    "grid.best_params_"
   ]
  },
  {
   "cell_type": "markdown",
   "metadata": {},
   "source": [
    "# Bagging"
   ]
  },
  {
   "cell_type": "markdown",
   "metadata": {},
   "source": [
    "In Bagging instead of using the same training set to fit the individual classifiers in the ensemble, we draw *bootstrap samples* (with replacement, can also carry some duplicates) from the initial training set, which is why bagging is also know as **Bootstrap Aggregatror**. \n",
    "\n",
    "Aggregator here means that we club the result from individual classifier in ensemble to make the decision bacially voting.\n",
    "\n",
    "*Note:- Random Forest is a special case of Bagging where we also use random feature subsets for fitting the individual decision trees*"
   ]
  },
  {
   "cell_type": "markdown",
   "metadata": {},
   "source": [
    "**Bagging can improve the accuracy of unstable models and decrease the degree of overfitting**<br>\n",
    "\n",
    "By default bagging models have low bias and low variance, so bagging is good for complex model that get overfitted easily"
   ]
  },
  {
   "cell_type": "code",
   "execution_count": 28,
   "metadata": {},
   "outputs": [],
   "source": [
    "import pandas as pd"
   ]
  },
  {
   "cell_type": "code",
   "execution_count": 29,
   "metadata": {},
   "outputs": [],
   "source": [
    "df_wine = pd.read_csv('wine.data', header = None)"
   ]
  },
  {
   "cell_type": "code",
   "execution_count": 30,
   "metadata": {},
   "outputs": [],
   "source": [
    "df_wine.columns = [\n",
    "    'class label',\n",
    "    'Alcohol',\n",
    "    'Malic Acid',\n",
    "    'Ash',\n",
    "    'Alcalinity of ash',\n",
    "    'Magnesium',\n",
    "    'Total phenols',\n",
    "    'Flavanoids',\n",
    "    'Nonflavanoid phenols',\n",
    "    'Proanthocyanins',\n",
    "    'Color intensity',\n",
    "    'Hue',\n",
    "    '0D280/0D315 of diluted wines',\n",
    "    'Proline'\n",
    "]"
   ]
  },
  {
   "cell_type": "code",
   "execution_count": 31,
   "metadata": {},
   "outputs": [
    {
     "data": {
      "text/html": [
       "<div>\n",
       "<style scoped>\n",
       "    .dataframe tbody tr th:only-of-type {\n",
       "        vertical-align: middle;\n",
       "    }\n",
       "\n",
       "    .dataframe tbody tr th {\n",
       "        vertical-align: top;\n",
       "    }\n",
       "\n",
       "    .dataframe thead th {\n",
       "        text-align: right;\n",
       "    }\n",
       "</style>\n",
       "<table border=\"1\" class=\"dataframe\">\n",
       "  <thead>\n",
       "    <tr style=\"text-align: right;\">\n",
       "      <th></th>\n",
       "      <th>class label</th>\n",
       "      <th>Alcohol</th>\n",
       "      <th>Malic Acid</th>\n",
       "      <th>Ash</th>\n",
       "      <th>Alcalinity of ash</th>\n",
       "      <th>Magnesium</th>\n",
       "      <th>Total phenols</th>\n",
       "      <th>Flavanoids</th>\n",
       "      <th>Nonflavanoid phenols</th>\n",
       "      <th>Proanthocyanins</th>\n",
       "      <th>Color intensity</th>\n",
       "      <th>Hue</th>\n",
       "      <th>0D280/0D315 of diluted wines</th>\n",
       "      <th>Proline</th>\n",
       "    </tr>\n",
       "  </thead>\n",
       "  <tbody>\n",
       "    <tr>\n",
       "      <th>0</th>\n",
       "      <td>1</td>\n",
       "      <td>14.23</td>\n",
       "      <td>1.71</td>\n",
       "      <td>2.43</td>\n",
       "      <td>15.6</td>\n",
       "      <td>127</td>\n",
       "      <td>2.80</td>\n",
       "      <td>3.06</td>\n",
       "      <td>0.28</td>\n",
       "      <td>2.29</td>\n",
       "      <td>5.64</td>\n",
       "      <td>1.04</td>\n",
       "      <td>3.92</td>\n",
       "      <td>1065</td>\n",
       "    </tr>\n",
       "    <tr>\n",
       "      <th>1</th>\n",
       "      <td>1</td>\n",
       "      <td>13.20</td>\n",
       "      <td>1.78</td>\n",
       "      <td>2.14</td>\n",
       "      <td>11.2</td>\n",
       "      <td>100</td>\n",
       "      <td>2.65</td>\n",
       "      <td>2.76</td>\n",
       "      <td>0.26</td>\n",
       "      <td>1.28</td>\n",
       "      <td>4.38</td>\n",
       "      <td>1.05</td>\n",
       "      <td>3.40</td>\n",
       "      <td>1050</td>\n",
       "    </tr>\n",
       "    <tr>\n",
       "      <th>2</th>\n",
       "      <td>1</td>\n",
       "      <td>13.16</td>\n",
       "      <td>2.36</td>\n",
       "      <td>2.67</td>\n",
       "      <td>18.6</td>\n",
       "      <td>101</td>\n",
       "      <td>2.80</td>\n",
       "      <td>3.24</td>\n",
       "      <td>0.30</td>\n",
       "      <td>2.81</td>\n",
       "      <td>5.68</td>\n",
       "      <td>1.03</td>\n",
       "      <td>3.17</td>\n",
       "      <td>1185</td>\n",
       "    </tr>\n",
       "    <tr>\n",
       "      <th>3</th>\n",
       "      <td>1</td>\n",
       "      <td>14.37</td>\n",
       "      <td>1.95</td>\n",
       "      <td>2.50</td>\n",
       "      <td>16.8</td>\n",
       "      <td>113</td>\n",
       "      <td>3.85</td>\n",
       "      <td>3.49</td>\n",
       "      <td>0.24</td>\n",
       "      <td>2.18</td>\n",
       "      <td>7.80</td>\n",
       "      <td>0.86</td>\n",
       "      <td>3.45</td>\n",
       "      <td>1480</td>\n",
       "    </tr>\n",
       "    <tr>\n",
       "      <th>4</th>\n",
       "      <td>1</td>\n",
       "      <td>13.24</td>\n",
       "      <td>2.59</td>\n",
       "      <td>2.87</td>\n",
       "      <td>21.0</td>\n",
       "      <td>118</td>\n",
       "      <td>2.80</td>\n",
       "      <td>2.69</td>\n",
       "      <td>0.39</td>\n",
       "      <td>1.82</td>\n",
       "      <td>4.32</td>\n",
       "      <td>1.04</td>\n",
       "      <td>2.93</td>\n",
       "      <td>735</td>\n",
       "    </tr>\n",
       "  </tbody>\n",
       "</table>\n",
       "</div>"
      ],
      "text/plain": [
       "   class label  Alcohol  Malic Acid   Ash  Alcalinity of ash  Magnesium  \\\n",
       "0            1    14.23        1.71  2.43               15.6        127   \n",
       "1            1    13.20        1.78  2.14               11.2        100   \n",
       "2            1    13.16        2.36  2.67               18.6        101   \n",
       "3            1    14.37        1.95  2.50               16.8        113   \n",
       "4            1    13.24        2.59  2.87               21.0        118   \n",
       "\n",
       "   Total phenols  Flavanoids  Nonflavanoid phenols  Proanthocyanins  \\\n",
       "0           2.80        3.06                  0.28             2.29   \n",
       "1           2.65        2.76                  0.26             1.28   \n",
       "2           2.80        3.24                  0.30             2.81   \n",
       "3           3.85        3.49                  0.24             2.18   \n",
       "4           2.80        2.69                  0.39             1.82   \n",
       "\n",
       "   Color intensity   Hue  0D280/0D315 of diluted wines  Proline  \n",
       "0             5.64  1.04                          3.92     1065  \n",
       "1             4.38  1.05                          3.40     1050  \n",
       "2             5.68  1.03                          3.17     1185  \n",
       "3             7.80  0.86                          3.45     1480  \n",
       "4             4.32  1.04                          2.93      735  "
      ]
     },
     "execution_count": 31,
     "metadata": {},
     "output_type": "execute_result"
    }
   ],
   "source": [
    "df_wine.head()"
   ]
  },
  {
   "cell_type": "code",
   "execution_count": 35,
   "metadata": {},
   "outputs": [],
   "source": [
    "#here we will only consider wine class 2 and 3\n",
    "df_wine = df_wine[df_wine['class label'] != 1]\n",
    "\n",
    "#here we will only consider two features Alochol, OD280/0D315 of diluted wines\n",
    "y = df_wine['class label'].values\n",
    "X = df_wine[['Alcohol', '0D280/0D315 of diluted wines']].values"
   ]
  },
  {
   "cell_type": "code",
   "execution_count": 36,
   "metadata": {},
   "outputs": [],
   "source": [
    "#let's label encode our class labels\n",
    "from sklearn.preprocessing import LabelEncoder\n",
    "\n",
    "le = LabelEncoder()\n",
    "\n",
    "y = le.fit_transform(y)"
   ]
  },
  {
   "cell_type": "code",
   "execution_count": 39,
   "metadata": {},
   "outputs": [
    {
     "data": {
      "text/plain": [
       "(array([71, 48], dtype=int64), array([0, 1], dtype=int64))"
      ]
     },
     "execution_count": 39,
     "metadata": {},
     "output_type": "execute_result"
    }
   ],
   "source": [
    "np.bincount(y), np.unique(y)"
   ]
  },
  {
   "cell_type": "code",
   "execution_count": 40,
   "metadata": {},
   "outputs": [],
   "source": [
    "#let's split our data in 80:20 ration for training and testing set\n",
    "from sklearn.model_selection import train_test_split"
   ]
  },
  {
   "cell_type": "code",
   "execution_count": 41,
   "metadata": {},
   "outputs": [],
   "source": [
    "X_train, X_test, y_train, y_test = train_test_split(X, y, test_size = 0.2, random_state = 1, stratify = y)"
   ]
  },
  {
   "cell_type": "code",
   "execution_count": 44,
   "metadata": {},
   "outputs": [],
   "source": [
    "from sklearn.ensemble import BaggingClassifier"
   ]
  },
  {
   "cell_type": "code",
   "execution_count": 45,
   "metadata": {},
   "outputs": [],
   "source": [
    "#we will be using decision tree with no pruning for our Bagging classifier\n",
    "tree = DecisionTreeClassifier(\n",
    "        criterion='entropy',\n",
    "        random_state = 1,\n",
    "        max_depth = None\n",
    ")"
   ]
  },
  {
   "cell_type": "code",
   "execution_count": 50,
   "metadata": {},
   "outputs": [],
   "source": [
    "'''\n",
    "    Here, we will be making 500 estimator,\n",
    "    each estimator will train for randomly sample with replacement (Bootstrap = True),\n",
    "    each estimator will train for all feature without replacement (Bootstrap = False)\n",
    "    \n",
    "    See Bagging Classifier doc for understanding max_sample\n",
    "    and max_feature, it is differnt for int value and flaot value\n",
    "    for int, max_feature means max_feature for sampling.\n",
    "    For float, max_feature means max_feature * X.shape[1] for sampling\n",
    "    similary for max_sample\n",
    "    for int; max_sample\n",
    "    for Float; max_sample * X.shape[0]\n",
    "\n",
    "'''\n",
    "\n",
    "\n",
    "bag = BaggingClassifier(\n",
    "        base_estimator=tree,\n",
    "        n_estimators=500,\n",
    "        max_samples=1.0,\n",
    "        max_features=1.0,\n",
    "        bootstrap=True,\n",
    "        bootstrap_features=False,\n",
    "        n_jobs=-1,\n",
    "        random_state=1\n",
    ")"
   ]
  },
  {
   "cell_type": "code",
   "execution_count": 51,
   "metadata": {},
   "outputs": [],
   "source": [
    "from sklearn.metrics import accuracy_score"
   ]
  },
  {
   "cell_type": "code",
   "execution_count": 52,
   "metadata": {},
   "outputs": [],
   "source": [
    "tree  = tree.fit(X_train, y_train) #fitting our decision tree first"
   ]
  },
  {
   "cell_type": "code",
   "execution_count": 56,
   "metadata": {},
   "outputs": [
    {
     "name": "stdout",
     "output_type": "stream",
     "text": [
      "Decision tree test/train score 1.000/0.833\n"
     ]
    }
   ],
   "source": [
    "y_train_pred = tree.predict(X_train) #how model perform on already seen data\n",
    "y_test_pred = tree.predict(X_test)   #how model perform on unseen data\n",
    "\n",
    "tree_training_set_accuracy = accuracy_score(y_pred=y_train_pred, y_true=y_train)\n",
    "tree_testing_set_accuracy = accuracy_score(y_pred=y_test_pred, y_true=y_test)\n",
    "\n",
    "print('Decision tree test/train score {:.3f}/{:.3f}'.format(tree_training_set_accuracy, tree_testing_set_accuracy))"
   ]
  },
  {
   "cell_type": "markdown",
   "metadata": {},
   "source": [
    "Remeber that we don't used pruning for our decision tree, it will resulting in maximum depth tree it means it capture ever details of data and make the model complex. It can be observed from the accuray score that our model is overfitted, 100% score for training set and only 83% for testing set. Thus our model have high variance.\n",
    "\n",
    "Now let's see how our bagging model with same base estimator performs"
   ]
  },
  {
   "cell_type": "code",
   "execution_count": 57,
   "metadata": {},
   "outputs": [
    {
     "data": {
      "text/plain": [
       "BaggingClassifier(base_estimator=DecisionTreeClassifier(class_weight=None,\n",
       "                                                        criterion='entropy',\n",
       "                                                        max_depth=None,\n",
       "                                                        max_features=None,\n",
       "                                                        max_leaf_nodes=None,\n",
       "                                                        min_impurity_decrease=0.0,\n",
       "                                                        min_impurity_split=None,\n",
       "                                                        min_samples_leaf=1,\n",
       "                                                        min_samples_split=2,\n",
       "                                                        min_weight_fraction_leaf=0.0,\n",
       "                                                        presort=False,\n",
       "                                                        random_state=1,\n",
       "                                                        splitter='best'),\n",
       "                  bootstrap=True, bootstrap_features=False, max_features=1.0,\n",
       "                  max_samples=1.0, n_estimators=500, n_jobs=-1, oob_score=False,\n",
       "                  random_state=1, verbose=0, warm_start=False)"
      ]
     },
     "execution_count": 57,
     "metadata": {},
     "output_type": "execute_result"
    }
   ],
   "source": [
    "bag.fit(X_train, y_train)"
   ]
  },
  {
   "cell_type": "code",
   "execution_count": 58,
   "metadata": {},
   "outputs": [
    {
     "name": "stdout",
     "output_type": "stream",
     "text": [
      "Bagging train/test accuracies: 1.000/0.917\n"
     ]
    }
   ],
   "source": [
    "y_train_pred = bag.predict(X_train)\n",
    "y_test_pred = bag.predict(X_test)\n",
    "\n",
    "bag_training_set_accuracy = accuracy_score(y_true=y_train, y_pred=y_train_pred)\n",
    "bag_testing_set_accuracy  = accuracy_score(y_true=y_test, y_pred = y_test_pred)\n",
    "\n",
    "print('Bagging train/test accuracies: {:.3f}/{:.3f}'.format(bag_training_set_accuracy, bag_testing_set_accuracy))"
   ]
  },
  {
   "cell_type": "markdown",
   "metadata": {},
   "source": [
    "We can observe that bagging classifier perfrom much better than single Decision tree, although both have training accuracy as 100%, bagging also perform better on testing set with accuracy of 91.7% which is more than Decision Tree. Thus our variance of bagging classifier is by default less. (Bagging classifier generalizes better)"
   ]
  },
  {
   "cell_type": "code",
   "execution_count": 59,
   "metadata": {},
   "outputs": [],
   "source": [
    "#let's see decision region for both the models\n",
    "\n",
    "x1_min, x1_max = X_train[:,0].min() - 1, X_train[:,0].max() + 1\n",
    "x2_min, x2_max = X_train[:,1].min() - 1, X_train[:,1].max() + 1\n",
    "\n",
    "xx1, xx2 = np.meshgrid(\n",
    "                np.arange(x1_min, x1_max, 0.1),\n",
    "                np.arange(x2_min, x2_max, 0.1)\n",
    ")"
   ]
  },
  {
   "cell_type": "code",
   "execution_count": 61,
   "metadata": {},
   "outputs": [
    {
     "data": {
      "image/png": "[encoded data removed]",
      "text/plain": [
       "<Figure size 576x216 with 2 Axes>"
      ]
     },
     "metadata": {
      "needs_background": "light"
     },
     "output_type": "display_data"
    }
   ],
   "source": [
    "fig, ax = plt.subplots(nrows=1, ncols=2, sharex='col', sharey='row', figsize = (8,3))\n",
    "\n",
    "for idx, clf, tt in zip([0,1], [tree, bag], ['Decision tree', 'Bagging']):\n",
    "    Z = clf.predict(np.array([xx1.ravel(), xx2.ravel()]).T)\n",
    "    Z = Z.reshape(xx1.shape)\n",
    "    \n",
    "    ax[idx].contourf(xx1, xx2, Z, alpha = 0.3)\n",
    "    ax[idx].scatter(X_train[y_train == 0, 0], X_train[y_train==0, 1], c = 'blue', marker = '^')\n",
    "    ax[idx].scatter(X_train[y_train == 1, 0], X_train[y_train == 1,1], c = 'green', marker = 'o')\n",
    "    ax[idx].set_title(tt)\n",
    "\n",
    "ax[0].set_ylabel('Alcohol', fontsize = 12)\n",
    "plt.text(10.2, -1.2, s = '0d280/0d315 of dilute wines', ha = 'center', va = 'center', fontsize = 12)\n",
    "plt.show()"
   ]
  },
  {
   "cell_type": "markdown",
   "metadata": {},
   "source": [
    "We can observe from the above diagram that decison boundary is more smoother in bagging classifier than in Decision tree thus our Bagging generalize better than decision tree on unseen data.\n",
    "\n",
    "**Note :-**\n",
    "The bagging algorithm can be an effective approach to reduce the variance of a model. However bagging is ineffective in reducing model bias, i.e models that are too simple to capture the trend in the data well. This is why we want to perform bagging on ensembe of classifiers with low bias(Decision tree), for example unpruned decision tree."
   ]
  },
  {
   "cell_type": "markdown",
   "metadata": {},
   "source": [
    "# AdaBoost (Adaptive Boosting)\n",
    "\n",
    "**Making Weak learner into Strong Learner**"
   ]
  },
  {
   "cell_type": "markdown",
   "metadata": {},
   "source": [
    "In boosting, the ensemble consists of very simple base classifiers, also often referred to as **weak learners**, which often only have a slight performance advantage over random guessing - a typical example of a weak learner is a decision tree stump.\n",
    "\n",
    "**Decision Tree Stump** - It is a one level decision tree. i.e a decision tree with one internal nodes which is immediately connect to the terminal nodes. A decision stumps make a predicition based on the values of just a single input feature. Basically a stump is tree with one node and two leaves\n",
    "\n",
    "The key concept behind boosting is to focus on training samples that are hard to classify, i.e, to let the weak learners subsequentally learn from misclassified training samples to improve the performance of the ensemble.\n",
    "\n",
    "**Idea behind AdaBoost**\n",
    "\n",
    "- AdaBoost combines a lot of **weak learners** to make classifications. The weak learner are always stumps (Decision Stump)\n",
    "- Some stump get more say (Amount of say) in the classification than others.\n",
    "- Each stump is made by taking the previous stumps mistakes into account.\n",
    "\n",
    "**Basic different b/w Adaboost and other ensemble model**\n",
    "\n",
    "- In other ensemble model every estimator has an equal weightage on voting for classification, but in adaboost some estimator (Decision stump) has more weightage on the vote.\n",
    "- Also order of implementation of estimator is important in adaboost because the error that the first stump makes influences how the second stump is made and so on. On the other hand the order of implementation if not important in other ensemble model."
   ]
  },
  {
   "cell_type": "markdown",
   "metadata": {},
   "source": [
    "**Note-**<br>\n",
    "Boosting can lead to decrease in bias as well as variance compared to bagging models. In practice however, boosting algorithms such as AdaBoost are also known for their high variance, i.e, the tendancy to overfit the training data."
   ]
  },
  {
   "cell_type": "markdown",
   "metadata": {},
   "source": [
    "**Steps in AdaBoost**\n",
    "\n",
    "1. Assign equal weight to each sample that will be equal to $ \\frac {1} {Total Number of samples} $\n",
    "\n",
    "\n",
    "2. Calculate Total Error for misclassified sample by the model.  $ TE = \\sum _{j=1} ^{j=m} w _j $\n",
    "    \n",
    "    here, m is total number of misclassified sample <br> $ w _j $ is weight of each misclassified sample\n",
    "    \n",
    " \n",
    "3. Calculate Weighted Error rate $ \\alpha _j $ (also called as Amount of say)  $ \\alpha _j = \\frac {1} {2} \\log \\frac {1-TE} {TE} $\n",
    "\n",
    "\n",
    "4. Now we will update the weight for each sample\n",
    "\n",
    "    For Misclassified sample, $ New Weight = Weight * e ^{Amount of Say} $, It will increase the weight for misclassified sample<br>\n",
    "    For Correct classif. sample, $ New Weight = Weight * e ^ {Amount of Say} $, It will decrease the weight for correct classified sample.\n",
    "    \n",
    "    \n",
    "5. We will normalize the weight so that it added to 1. $ w = \\frac {w} {\\sum w} $\n",
    "\n",
    "6. Compute the final prediction: $ ypred = (\\sum _{j=1} ^{m} (\\alpha _j * predict(C _j, X)) > 0) $, m is the total number of samples.\n",
    " "
   ]
  },
  {
   "cell_type": "code",
   "execution_count": 62,
   "metadata": {},
   "outputs": [],
   "source": [
    "from sklearn.ensemble import AdaBoostClassifier"
   ]
  },
  {
   "cell_type": "code",
   "execution_count": 64,
   "metadata": {},
   "outputs": [],
   "source": [
    "#let's use Decision tree for our base estimator, remeber decision stump\n",
    "\n",
    "tree = DecisionTreeClassifier(\n",
    "        criterion='entropy',\n",
    "        random_state =1 ,\n",
    "        max_depth = 1\n",
    "\n",
    ")"
   ]
  },
  {
   "cell_type": "code",
   "execution_count": 65,
   "metadata": {},
   "outputs": [],
   "source": [
    "ada = AdaBoostClassifier(\n",
    "        base_estimator=tree,\n",
    "        n_estimators=500,\n",
    "        learning_rate=0.1,\n",
    "        random_state=1\n",
    ")"
   ]
  },
  {
   "cell_type": "code",
   "execution_count": 66,
   "metadata": {},
   "outputs": [],
   "source": [
    "#let's train our tree model for comparison \n",
    "tree = tree.fit(X_train, y_train)"
   ]
  },
  {
   "cell_type": "code",
   "execution_count": 68,
   "metadata": {},
   "outputs": [
    {
     "name": "stdout",
     "output_type": "stream",
     "text": [
      "Decision Tree Train/Test accuracies 0.916/0.875\n"
     ]
    }
   ],
   "source": [
    "y_train_pred = tree.predict(X_train) #seeing how good model generalizes over seen data.\n",
    "y_test_pred =  tree.predict(X_test)  #seeing how good model generalizes over unseen data.\n",
    "\n",
    "tree_training_set_accuracy = accuracy_score(y_true=y_train, y_pred=y_train_pred)\n",
    "tree_test_set_accuracy  = accuracy_score(y_true=y_test, y_pred=y_test_pred)\n",
    "\n",
    "print('Decision Tree Train/Test accuracies {:.3f}/{:.3f}'.format(tree_training_set_accuracy, tree_test_set_accuracy))"
   ]
  },
  {
   "cell_type": "markdown",
   "metadata": {},
   "source": [
    "Remember above (in Bagging) when we train the same tree with max_depth None (Unpruned) i.e tree achieve maximum depth and achieve 100% accuracy on training data. But here we can seen that our model is underfit (High Bias) because of max_depth 1 (pruned) (Decision Stump are weak learner remember).\n",
    "\n",
    "Now let's seen how our weak model will perform in AdaBoost"
   ]
  },
  {
   "cell_type": "code",
   "execution_count": 69,
   "metadata": {},
   "outputs": [],
   "source": [
    "ada = ada.fit(X_train, y_train)"
   ]
  },
  {
   "cell_type": "code",
   "execution_count": 70,
   "metadata": {},
   "outputs": [
    {
     "name": "stdout",
     "output_type": "stream",
     "text": [
      "AdaBoost Train/Test accuracies: 1.000/0.917\n"
     ]
    }
   ],
   "source": [
    "y_train_pred = ada.predict(X_train) #seeing how good model generalizes over seen data.\n",
    "y_test_pred = ada.predict(X_test)   #seeing how good model generalizes over unseen data.\n",
    "\n",
    "ada_training_set_accuracy = accuracy_score(y_train, y_train_pred)\n",
    "ada_testing_set_accuracy = accuracy_score(y_test, y_test_pred)\n",
    "\n",
    "print('AdaBoost Train/Test accuracies: {:.3f}/{:.3f}'.format(ada_training_set_accuracy, ada_testing_set_accuracy))"
   ]
  },
  {
   "cell_type": "markdown",
   "metadata": {},
   "source": [
    "As we can see, the AdaBoost model predicts all class labels of the training set correctly and also shows a slightly improved test set performance compared to the decision tree stump. However, we also see that we <u>additional variance by our attempt to reduce the model bias - a higher gap between training and test performance.</u>"
   ]
  },
  {
   "cell_type": "code",
   "execution_count": 71,
   "metadata": {},
   "outputs": [],
   "source": [
    "#let's check decision region for both the models\n",
    "\n",
    "x1_min, x1_max = X_train[:,0].min() - 1, X_train[:,0].max() + 1\n",
    "x2_min, x2_max = X_train[:,1].min() - 1, X_train[:,1].max() + 1\n",
    "\n",
    "xx, yy = np.meshgrid(\n",
    "            np.arange(x1_min, x1_max, 0.1),\n",
    "            np.arange(x2_min, x2_max, 0.1)\n",
    ")"
   ]
  },
  {
   "cell_type": "code",
   "execution_count": 72,
   "metadata": {},
   "outputs": [
    {
     "data": {
      "image/png": "[encoded data removed]",
      "text/plain": [
       "<Figure size 576x216 with 2 Axes>"
      ]
     },
     "metadata": {
      "needs_background": "light"
     },
     "output_type": "display_data"
    }
   ],
   "source": [
    "fig, ax = plt.subplots(ncols=2, nrows=1, sharex='col', sharey='row', figsize = (8,3))\n",
    "\n",
    "for idx, clf, tt in zip([0,1], [tree, ada], ['Decision Tree','Ada Boost']):\n",
    "    Z = clf.predict(np.array([xx.ravel(), yy.ravel()]).T)\n",
    "    Z = Z.reshape(xx.shape)\n",
    "    \n",
    "    ax[idx].contourf(xx, yy, Z, alpha = 0.3)\n",
    "    ax[idx].scatter(X_train[y_train==0,0], X_train[y_train==0,1], c= 'blue', marker = '^')\n",
    "    ax[idx].scatter(X_train[y_train==1,0], X_train[y_train==1, 1],  c= 'green', marker = 'o')\n",
    "    ax[idx].set_title(tt)\n",
    "\n",
    "ax[0].set_ylabel('Alchol', fontsize = 12)\n",
    "plt.text(10.2, -0.5, s= '0D280/0D315 of diluted wines', ha='center', va='center', fontsize = 12)\n",
    "plt.show()"
   ]
  },
  {
   "cell_type": "markdown",
   "metadata": {},
   "source": [
    "By looking at the decision regions, we can see that the decision boundary of the AdaBoost model is substantially more complex than the decision boundary of the decision stump. In addition, we note that AdaBoost model seperates the feature space very similarly to the bagging classifier that we trained in the previous section."
   ]
  },
  {
   "cell_type": "markdown",
   "metadata": {},
   "source": [
    "In Future this notebook will also contain information and examples on other boosting methods like\n",
    "\n",
    "- Gradient Boost\n",
    "- Extreme Gradient Boost\n",
    "- LgBoost\n",
    "\n",
    "\n",
    "**NOTE --------------**\n",
    "\n",
    "Ensemble learning increases the computational complexity compared to individual classifiers. So In practice it will not be coming in a lot of use since we need cost efficient model. But this approach can be good for competition like kaggle and others where we need to outperform other by achieveing the highest accuracy possible on unseen data."
   ]
  },
  {
   "cell_type": "code",
   "execution_count": null,
   "metadata": {},
   "outputs": [],
   "source": []
  }
 ],
 "metadata": {
  "kernelspec": {
   "display_name": "Python 3",
   "language": "python",
   "name": "python3"
  },
  "language_info": {
   "codemirror_mode": {
    "name": "ipython",
    "version": 3
   },
   "file_extension": ".py",
   "mimetype": "text/x-python",
   "name": "python",
   "nbconvert_exporter": "python",
   "pygments_lexer": "ipython3",
   "version": "3.6.8"
  }
 },
 "nbformat": 4,
 "nbformat_minor": 2
}
