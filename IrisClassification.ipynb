{
  "nbformat": 4,
  "nbformat_minor": 0,
  "metadata": {
    "colab": {
      "name": "IrisClassification.ipynb",
      "provenance": [],
      "authorship_tag": "ABX9TyOFDKSjMJ7Frw0sv4w6UXj1",
      "include_colab_link": true
    },
    "kernelspec": {
      "name": "python3",
      "display_name": "Python 3"
    }
  },
  "cells": [
    {
      "cell_type": "markdown",
      "metadata": {
        "id": "view-in-github",
        "colab_type": "text"
      },
      "source": [
        "<a href=\"https://colab.research.google.com/github/rishav-ish/MachineLearning/blob/master/IrisClassification.ipynb\" target=\"_parent\"><img src=\"https://colab.research.google.com/assets/colab-badge.svg\" alt=\"Open In Colab\"/></a>"
      ]
    },
    {
      "cell_type": "markdown",
      "metadata": {
        "id": "LM-Kea8uavPj",
        "colab_type": "text"
      },
      "source": [
        "# Iris Data Set classification using perceptron"
      ]
    },
    {
      "cell_type": "markdown",
      "metadata": {
        "id": "lMn-QLNPld2j",
        "colab_type": "text"
      },
      "source": [
        "## Importing Require Library"
      ]
    },
    {
      "cell_type": "code",
      "metadata": {
        "id": "PNOxV2y9miB9",
        "colab_type": "code",
        "colab": {}
      },
      "source": [
        "import numpy as np\n",
        "import pandas as pd\n",
        "import matplotlib.pyplot as plt"
      ],
      "execution_count": 0,
      "outputs": []
    },
    {
      "cell_type": "markdown",
      "metadata": {
        "id": "A2vfLrkTmmA9",
        "colab_type": "text"
      },
      "source": [
        "## Loading Our Data"
      ]
    },
    {
      "cell_type": "code",
      "metadata": {
        "id": "lwu5261fmpAr",
        "colab_type": "code",
        "colab": {}
      },
      "source": [
        "df = pd.read_csv('https://archive.ics.uci.edu/ml/machine-learning-databases/iris/iris.data',header = None, names = ['sepal length', 'sepal width', 'petal length', 'petal width', 'target'])\n",
        "\n"
      ],
      "execution_count": 0,
      "outputs": []
    },
    {
      "cell_type": "code",
      "metadata": {
        "id": "J8dqQ6iHmwsf",
        "colab_type": "code",
        "colab": {
          "base_uri": "https://localhost:8080/",
          "height": 187
        },
        "outputId": "c533e239-4483-4d7d-bd55-a8bc5fa7af44"
      },
      "source": [
        "df.info()"
      ],
      "execution_count": 13,
      "outputs": [
        {
          "output_type": "stream",
          "text": [
            "<class 'pandas.core.frame.DataFrame'>\n",
            "RangeIndex: 150 entries, 0 to 149\n",
            "Data columns (total 5 columns):\n",
            "sepal length    150 non-null float64\n",
            "sepal width     150 non-null float64\n",
            "petal length    150 non-null float64\n",
            "petal width     150 non-null float64\n",
            "target          150 non-null object\n",
            "dtypes: float64(4), object(1)\n",
            "memory usage: 6.0+ KB\n"
          ],
          "name": "stdout"
        }
      ]
    },
    {
      "cell_type": "markdown",
      "metadata": {
        "id": "Y47sl-5TmzI-",
        "colab_type": "text"
      },
      "source": [
        "As you can see we don't have any null value in our dataset, and we have 150 samples with 4 features or dimensions"
      ]
    },
    {
      "cell_type": "code",
      "metadata": {
        "id": "fOjafJB5m_zQ",
        "colab_type": "code",
        "colab": {
          "base_uri": "https://localhost:8080/",
          "height": 204
        },
        "outputId": "6c7299a8-cb15-4598-804b-6cceea9c5b04"
      },
      "source": [
        "df.head()"
      ],
      "execution_count": 14,
      "outputs": [
        {
          "output_type": "execute_result",
          "data": {
            "text/html": [
              "<div>\n",
              "<style scoped>\n",
              "    .dataframe tbody tr th:only-of-type {\n",
              "        vertical-align: middle;\n",
              "    }\n",
              "\n",
              "    .dataframe tbody tr th {\n",
              "        vertical-align: top;\n",
              "    }\n",
              "\n",
              "    .dataframe thead th {\n",
              "        text-align: right;\n",
              "    }\n",
              "</style>\n",
              "<table border=\"1\" class=\"dataframe\">\n",
              "  <thead>\n",
              "    <tr style=\"text-align: right;\">\n",
              "      <th></th>\n",
              "      <th>sepal length</th>\n",
              "      <th>sepal width</th>\n",
              "      <th>petal length</th>\n",
              "      <th>petal width</th>\n",
              "      <th>target</th>\n",
              "    </tr>\n",
              "  </thead>\n",
              "  <tbody>\n",
              "    <tr>\n",
              "      <th>0</th>\n",
              "      <td>5.1</td>\n",
              "      <td>3.5</td>\n",
              "      <td>1.4</td>\n",
              "      <td>0.2</td>\n",
              "      <td>Iris-setosa</td>\n",
              "    </tr>\n",
              "    <tr>\n",
              "      <th>1</th>\n",
              "      <td>4.9</td>\n",
              "      <td>3.0</td>\n",
              "      <td>1.4</td>\n",
              "      <td>0.2</td>\n",
              "      <td>Iris-setosa</td>\n",
              "    </tr>\n",
              "    <tr>\n",
              "      <th>2</th>\n",
              "      <td>4.7</td>\n",
              "      <td>3.2</td>\n",
              "      <td>1.3</td>\n",
              "      <td>0.2</td>\n",
              "      <td>Iris-setosa</td>\n",
              "    </tr>\n",
              "    <tr>\n",
              "      <th>3</th>\n",
              "      <td>4.6</td>\n",
              "      <td>3.1</td>\n",
              "      <td>1.5</td>\n",
              "      <td>0.2</td>\n",
              "      <td>Iris-setosa</td>\n",
              "    </tr>\n",
              "    <tr>\n",
              "      <th>4</th>\n",
              "      <td>5.0</td>\n",
              "      <td>3.6</td>\n",
              "      <td>1.4</td>\n",
              "      <td>0.2</td>\n",
              "      <td>Iris-setosa</td>\n",
              "    </tr>\n",
              "  </tbody>\n",
              "</table>\n",
              "</div>"
            ],
            "text/plain": [
              "   sepal length  sepal width  petal length  petal width       target\n",
              "0           5.1          3.5           1.4          0.2  Iris-setosa\n",
              "1           4.9          3.0           1.4          0.2  Iris-setosa\n",
              "2           4.7          3.2           1.3          0.2  Iris-setosa\n",
              "3           4.6          3.1           1.5          0.2  Iris-setosa\n",
              "4           5.0          3.6           1.4          0.2  Iris-setosa"
            ]
          },
          "metadata": {
            "tags": []
          },
          "execution_count": 14
        }
      ]
    },
    {
      "cell_type": "code",
      "metadata": {
        "id": "UZAK5BS5nBsA",
        "colab_type": "code",
        "colab": {
          "base_uri": "https://localhost:8080/",
          "height": 85
        },
        "outputId": "7a84c827-dd66-444f-ca29-c0dd14d51f7e"
      },
      "source": [
        "df[4].value_counts()"
      ],
      "execution_count": 7,
      "outputs": [
        {
          "output_type": "execute_result",
          "data": {
            "text/plain": [
              "Iris-versicolor    50\n",
              "Iris-setosa        50\n",
              "Iris-virginica     50\n",
              "Name: 4, dtype: int64"
            ]
          },
          "metadata": {
            "tags": []
          },
          "execution_count": 7
        }
      ]
    },
    {
      "cell_type": "markdown",
      "metadata": {
        "id": "sqgOdyvLnEHA",
        "colab_type": "text"
      },
      "source": [
        "we have 3 target class for labelling, as given above\n",
        "<li>Iris_versicolor</li>\n",
        "<li>Iris-setosa</li>\n",
        "<li>Iris-virginica</li>\n",
        "\n",
        "<br>\n",
        "\n",
        "For understanding purpose we will be using first 100 samples of our dataset that comprises of Iris-versicolor and Iris-setosa only, both are 50 and 50 samples so our dataset are well balanced.\n",
        "\n",
        "And also for visulaization of our separation boundary easily we will be using just two feature sepal length and petal length so that we don't have to go in dimensional reduction concept for now"
      ]
    },
    {
      "cell_type": "code",
      "metadata": {
        "id": "doeHXgNvnP8C",
        "colab_type": "code",
        "colab": {}
      },
      "source": [
        "X = df.iloc[:100,[0,2]].values              #converting into numpy  array using values\n",
        "y = df.iloc[:100,-1].values"
      ],
      "execution_count": 0,
      "outputs": []
    },
    {
      "cell_type": "markdown",
      "metadata": {
        "id": "ozM8JBNDsR1p",
        "colab_type": "text"
      },
      "source": [
        "Let's label our y_data / target data to 1 and -1,\n",
        "1 for Iris_versicolor\n",
        "-1 for Iris-virginica"
      ]
    },
    {
      "cell_type": "code",
      "metadata": {
        "id": "3EWmBFrlseQk",
        "colab_type": "code",
        "colab": {}
      },
      "source": [
        "y = np.where(y=='Iris-setosa', 1 , -1)"
      ],
      "execution_count": 0,
      "outputs": []
    },
    {
      "cell_type": "markdown",
      "metadata": {
        "id": "GASYDzgWovc5",
        "colab_type": "text"
      },
      "source": [
        "let's plot our y to see our target value dataset"
      ]
    },
    {
      "cell_type": "code",
      "metadata": {
        "id": "QsWCbRQ7o06C",
        "colab_type": "code",
        "colab": {
          "base_uri": "https://localhost:8080/",
          "height": 265
        },
        "outputId": "47feca0c-5c76-46fe-b03a-88c5b30c4b02"
      },
      "source": [
        "_ = plt.hist(y)                              #you can see that our data is well balanced\n",
        "plt.show()"
      ],
      "execution_count": 29,
      "outputs": [
        {
          "output_type": "display_data",
          "data": {
            "image/png": "[encoded data removed]",
            "text/plain": [
              "<Figure size 432x288 with 1 Axes>"
            ]
          },
          "metadata": {
            "tags": []
          }
        }
      ]
    },
    {
      "cell_type": "markdown",
      "metadata": {
        "id": "vQEnRFono2mi",
        "colab_type": "text"
      },
      "source": [
        "## Creating Perceptron Model"
      ]
    },
    {
      "cell_type": "code",
      "metadata": {
        "id": "EOuKFnWmp2ez",
        "colab_type": "code",
        "colab": {}
      },
      "source": [
        "class Perceptron:\n",
        "\n",
        "  def __init__(self, learning_rate = 0.01, epoch = 50, random_state = 42):\n",
        "    self.learning_rate = learning_rate\n",
        "    self.epoch = epoch\n",
        "    self.random_state = random_state\n",
        "\n",
        "  def net_input(self,X):\n",
        "    return np.dot(X,self.w_[1:]) + self.w_[0]\n",
        "\n",
        "  def predict(self,X):\n",
        "    return np.where(self.net_input(X) >= 0.0, 1, -1)\n",
        "\n",
        "  def fit(self,X,y):\n",
        "    random = np.random.RandomState(self.random_state)\n",
        "    self.w_ = random.normal(loc = 0.0, scale = 0.01, size = 1 + X.shape[1])\n",
        "\n",
        "    self.errors_ = []\n",
        "\n",
        "    for _ in range(self.epoch):\n",
        "      errors = 0\n",
        "      for xi, target in zip(X,y):\n",
        "        update = self.learning_rate * (target - self.predict(xi))\n",
        "        self.w_[1:] += update * xi\n",
        "        self.w_[0] += update\n",
        "        errors += int(update != 0.0)\n",
        "      self.errors_.append(errors)\n",
        "    return self"
      ],
      "execution_count": 0,
      "outputs": []
    },
    {
      "cell_type": "markdown",
      "metadata": {
        "id": "lT3Q7YBVte95",
        "colab_type": "text"
      },
      "source": [
        "## Visualizing our data"
      ]
    },
    {
      "cell_type": "code",
      "metadata": {
        "id": "wSv6nQSrvg2U",
        "colab_type": "code",
        "colab": {
          "base_uri": "https://localhost:8080/",
          "height": 279
        },
        "outputId": "e9a14a8d-c923-4b7f-bc29-a847e3f8fc82"
      },
      "source": [
        "_  = plt.scatter(X[:50,0], X[:50,1], color = 'red', marker = '^', label = 'setosa')\n",
        "_ = plt.scatter(X[50:,0], X[50:,1], color = 'blue', marker = 'v', label = 'versicolor')\n",
        "plt.xlabel('sepal length in cm')\n",
        "plt.ylabel('petal length in cm')\n",
        "plt.legend(loc = 'upper left')\n",
        "plt.show()"
      ],
      "execution_count": 31,
      "outputs": [
        {
          "output_type": "display_data",
          "data": {
            "image/png": "[encoded data removed]",
            "text/plain": [
              "<Figure size 432x288 with 1 Axes>"
            ]
          },
          "metadata": {
            "tags": []
          }
        }
      ]
    },
    {
      "cell_type": "markdown",
      "metadata": {
        "id": "qjyPiNinwMe6",
        "colab_type": "text"
      },
      "source": [
        "## Training our Model"
      ]
    },
    {
      "cell_type": "code",
      "metadata": {
        "id": "nUto_Uw6wTpa",
        "colab_type": "code",
        "colab": {
          "base_uri": "https://localhost:8080/",
          "height": 34
        },
        "outputId": "93991f67-cb31-450b-b088-53e2274e5239"
      },
      "source": [
        "model = Perceptron(epoch = 10)\n",
        "model.fit(X,y)"
      ],
      "execution_count": 41,
      "outputs": [
        {
          "output_type": "execute_result",
          "data": {
            "text/plain": [
              "<__main__.Perceptron at 0x7fe53f83cd68>"
            ]
          },
          "metadata": {
            "tags": []
          },
          "execution_count": 41
        }
      ]
    },
    {
      "cell_type": "markdown",
      "metadata": {
        "id": "Sl8S900hwtxX",
        "colab_type": "text"
      },
      "source": [
        "So our model have been trained let see the error happening per iteration"
      ]
    },
    {
      "cell_type": "code",
      "metadata": {
        "id": "KYrL0nWXxO_S",
        "colab_type": "code",
        "colab": {
          "base_uri": "https://localhost:8080/",
          "height": 279
        },
        "outputId": "1116d948-bc9d-4ef4-b03f-8e914955671e"
      },
      "source": [
        "plt.plot(range(1,len(model.errors_) + 1), model.errors_, marker = 'o', color = 'green')\n",
        "plt.xlabel('Epoch')\n",
        "plt.ylabel('Number of updates')\n",
        "plt.show()"
      ],
      "execution_count": 42,
      "outputs": [
        {
          "output_type": "display_data",
          "data": {
            "image/png": "[encoded data removed]",
            "text/plain": [
              "<Figure size 432x288 with 1 Axes>"
            ]
          },
          "metadata": {
            "tags": []
          }
        }
      ]
    },
    {
      "cell_type": "markdown",
      "metadata": {
        "id": "DYzRue0CxqdX",
        "colab_type": "text"
      },
      "source": [
        "## Visualizing the Decision Boundary"
      ]
    },
    {
      "cell_type": "code",
      "metadata": {
        "id": "P7cedeOCyKyK",
        "colab_type": "code",
        "colab": {}
      },
      "source": [
        "from matplotlib.colors import ListedColormap"
      ],
      "execution_count": 0,
      "outputs": []
    },
    {
      "cell_type": "code",
      "metadata": {
        "id": "fpC73-F4yQWT",
        "colab_type": "code",
        "colab": {}
      },
      "source": [
        "def plot_decision_regions(X,y, classifier, resolution = 0.02):\n",
        "  markers = ('s','x','o','^','v')\n",
        "  colors = ('red','blue','lightgreen','gray','cyan')\n",
        "  cmap = ListedColormap(colors[:len(np.unique(y))])\n",
        "\n",
        "  x1_min, x1_max = X[:,0].min() - 1, X[:,0].max() + 1\n",
        "  x2_min, x2_max = X[:,1].min() - 1 , X[:,1].max() + 1\n",
        "  xx1 , xx2 = np.meshgrid(np.arange(x1_min, x1_max, resolution),\n",
        "                          np.arange(x2_min, x2_max, resolution)\n",
        "                          )\n",
        "  Z = classifier.predict(np.array([xx1.ravel(), xx2.ravel()]).T)\n",
        "  Z = Z.reshape(xx1.shape)\n",
        "  plt.contourf(xx1,xx2,Z, alpha = 0.3, cmap = cmap)\n",
        "  plt.xlim(xx1.min(),xx1.max())\n",
        "  plt.ylim(xx2.min(),xx2.max())\n",
        "\n",
        "  for idx, cl in enumerate(np.unique(y)):\n",
        "    plt.scatter(x = X[y==cl, 0], y = X[y==cl,1], alpha = 0.8, c = colors[idx], marker = markers[idx], label = cl, edgecolor = 'black')"
      ],
      "execution_count": 0,
      "outputs": []
    },
    {
      "cell_type": "code",
      "metadata": {
        "id": "36UwzAJ55Dbl",
        "colab_type": "code",
        "colab": {
          "base_uri": "https://localhost:8080/",
          "height": 280
        },
        "outputId": "279dfa48-3988-44fd-c731-1b2e76b42b73"
      },
      "source": [
        "plot_decision_regions(X,y,model)\n",
        "plt.xlabel('sepal length in cm')\n",
        "plt.ylabel('petal length in cm')\n",
        "plt.legend(loc = 'upper left')\n",
        "plt.show()"
      ],
      "execution_count": 45,
      "outputs": [
        {
          "output_type": "display_data",
          "data": {
            "image/png": "[encoded data removed]",
            "text/plain": [
              "<Figure size 432x288 with 1 Axes>"
            ]
          },
          "metadata": {
            "tags": []
          }
        }
      ]
    },
    {
      "cell_type": "code",
      "metadata": {
        "id": "O4bXPvOy5ULy",
        "colab_type": "code",
        "colab": {}
      },
      "source": [
        ""
      ],
      "execution_count": 0,
      "outputs": []
    }
  ]
}